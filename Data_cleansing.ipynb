{
  "nbformat": 4,
  "nbformat_minor": 0,
  "metadata": {
    "kernelspec": {
      "display_name": "Python 3",
      "language": "python",
      "name": "python3"
    },
    "language_info": {
      "codemirror_mode": {
        "name": "ipython",
        "version": 3
      },
      "file_extension": ".py",
      "mimetype": "text/x-python",
      "name": "python",
      "nbconvert_exporter": "python",
      "pygments_lexer": "ipython3",
      "version": "3.7.1"
    },
    "colab": {
      "name": "Data_cleansing.ipynb",
      "provenance": [],
      "collapsed_sections": [],
      "toc_visible": true
    }
  },
  "cells": [
    {
      "cell_type": "markdown",
      "metadata": {
        "id": "w7FXxuBHyj9K",
        "colab_type": "text"
      },
      "source": [
        "# Predicting prices on housing market in Melbourne - Capstone Project\n",
        "## Part 1: Data cleansing"
      ]
    },
    {
      "cell_type": "code",
      "metadata": {
        "id": "xasa7pGpyj9M",
        "colab_type": "code",
        "colab": {}
      },
      "source": [
        "# importing necessary libraries\n",
        "import pandas as pd\n",
        "import numpy as np\n",
        "import matplotlib.pyplot as plt\n",
        "from datetime import datetime\n",
        "%matplotlib inline"
      ],
      "execution_count": 0,
      "outputs": []
    },
    {
      "cell_type": "code",
      "metadata": {
        "id": "x8y1rmfWyj9S",
        "colab_type": "code",
        "outputId": "be819d29-1aa3-4ea5-a095-4547d8460341",
        "colab": {
          "base_uri": "https://localhost:8080/",
          "height": 322
        }
      },
      "source": [
        "df = pd.read_csv('Melbourne_housing_FULL.csv')\n",
        "df.head()"
      ],
      "execution_count": 4,
      "outputs": [
        {
          "output_type": "execute_result",
          "data": {
            "text/html": [
              "<div>\n",
              "<style scoped>\n",
              "    .dataframe tbody tr th:only-of-type {\n",
              "        vertical-align: middle;\n",
              "    }\n",
              "\n",
              "    .dataframe tbody tr th {\n",
              "        vertical-align: top;\n",
              "    }\n",
              "\n",
              "    .dataframe thead th {\n",
              "        text-align: right;\n",
              "    }\n",
              "</style>\n",
              "<table border=\"1\" class=\"dataframe\">\n",
              "  <thead>\n",
              "    <tr style=\"text-align: right;\">\n",
              "      <th></th>\n",
              "      <th>Suburb</th>\n",
              "      <th>Address</th>\n",
              "      <th>Rooms</th>\n",
              "      <th>Type</th>\n",
              "      <th>Price</th>\n",
              "      <th>Method</th>\n",
              "      <th>SellerG</th>\n",
              "      <th>Date</th>\n",
              "      <th>Distance</th>\n",
              "      <th>Postcode</th>\n",
              "      <th>Bedroom2</th>\n",
              "      <th>Bathroom</th>\n",
              "      <th>Car</th>\n",
              "      <th>Landsize</th>\n",
              "      <th>BuildingArea</th>\n",
              "      <th>YearBuilt</th>\n",
              "      <th>CouncilArea</th>\n",
              "      <th>Lattitude</th>\n",
              "      <th>Longtitude</th>\n",
              "      <th>Regionname</th>\n",
              "      <th>Propertycount</th>\n",
              "    </tr>\n",
              "  </thead>\n",
              "  <tbody>\n",
              "    <tr>\n",
              "      <th>0</th>\n",
              "      <td>Abbotsford</td>\n",
              "      <td>68 Studley St</td>\n",
              "      <td>2</td>\n",
              "      <td>h</td>\n",
              "      <td>NaN</td>\n",
              "      <td>SS</td>\n",
              "      <td>Jellis</td>\n",
              "      <td>3/09/2016</td>\n",
              "      <td>2.5</td>\n",
              "      <td>3067.0</td>\n",
              "      <td>2.0</td>\n",
              "      <td>1.0</td>\n",
              "      <td>1.0</td>\n",
              "      <td>126.0</td>\n",
              "      <td>NaN</td>\n",
              "      <td>NaN</td>\n",
              "      <td>Yarra City Council</td>\n",
              "      <td>-37.8014</td>\n",
              "      <td>144.9958</td>\n",
              "      <td>Northern Metropolitan</td>\n",
              "      <td>4019.0</td>\n",
              "    </tr>\n",
              "    <tr>\n",
              "      <th>1</th>\n",
              "      <td>Abbotsford</td>\n",
              "      <td>85 Turner St</td>\n",
              "      <td>2</td>\n",
              "      <td>h</td>\n",
              "      <td>1480000.0</td>\n",
              "      <td>S</td>\n",
              "      <td>Biggin</td>\n",
              "      <td>3/12/2016</td>\n",
              "      <td>2.5</td>\n",
              "      <td>3067.0</td>\n",
              "      <td>2.0</td>\n",
              "      <td>1.0</td>\n",
              "      <td>1.0</td>\n",
              "      <td>202.0</td>\n",
              "      <td>NaN</td>\n",
              "      <td>NaN</td>\n",
              "      <td>Yarra City Council</td>\n",
              "      <td>-37.7996</td>\n",
              "      <td>144.9984</td>\n",
              "      <td>Northern Metropolitan</td>\n",
              "      <td>4019.0</td>\n",
              "    </tr>\n",
              "    <tr>\n",
              "      <th>2</th>\n",
              "      <td>Abbotsford</td>\n",
              "      <td>25 Bloomburg St</td>\n",
              "      <td>2</td>\n",
              "      <td>h</td>\n",
              "      <td>1035000.0</td>\n",
              "      <td>S</td>\n",
              "      <td>Biggin</td>\n",
              "      <td>4/02/2016</td>\n",
              "      <td>2.5</td>\n",
              "      <td>3067.0</td>\n",
              "      <td>2.0</td>\n",
              "      <td>1.0</td>\n",
              "      <td>0.0</td>\n",
              "      <td>156.0</td>\n",
              "      <td>79.0</td>\n",
              "      <td>1900.0</td>\n",
              "      <td>Yarra City Council</td>\n",
              "      <td>-37.8079</td>\n",
              "      <td>144.9934</td>\n",
              "      <td>Northern Metropolitan</td>\n",
              "      <td>4019.0</td>\n",
              "    </tr>\n",
              "    <tr>\n",
              "      <th>3</th>\n",
              "      <td>Abbotsford</td>\n",
              "      <td>18/659 Victoria St</td>\n",
              "      <td>3</td>\n",
              "      <td>u</td>\n",
              "      <td>NaN</td>\n",
              "      <td>VB</td>\n",
              "      <td>Rounds</td>\n",
              "      <td>4/02/2016</td>\n",
              "      <td>2.5</td>\n",
              "      <td>3067.0</td>\n",
              "      <td>3.0</td>\n",
              "      <td>2.0</td>\n",
              "      <td>1.0</td>\n",
              "      <td>0.0</td>\n",
              "      <td>NaN</td>\n",
              "      <td>NaN</td>\n",
              "      <td>Yarra City Council</td>\n",
              "      <td>-37.8114</td>\n",
              "      <td>145.0116</td>\n",
              "      <td>Northern Metropolitan</td>\n",
              "      <td>4019.0</td>\n",
              "    </tr>\n",
              "    <tr>\n",
              "      <th>4</th>\n",
              "      <td>Abbotsford</td>\n",
              "      <td>5 Charles St</td>\n",
              "      <td>3</td>\n",
              "      <td>h</td>\n",
              "      <td>1465000.0</td>\n",
              "      <td>SP</td>\n",
              "      <td>Biggin</td>\n",
              "      <td>4/03/2017</td>\n",
              "      <td>2.5</td>\n",
              "      <td>3067.0</td>\n",
              "      <td>3.0</td>\n",
              "      <td>2.0</td>\n",
              "      <td>0.0</td>\n",
              "      <td>134.0</td>\n",
              "      <td>150.0</td>\n",
              "      <td>1900.0</td>\n",
              "      <td>Yarra City Council</td>\n",
              "      <td>-37.8093</td>\n",
              "      <td>144.9944</td>\n",
              "      <td>Northern Metropolitan</td>\n",
              "      <td>4019.0</td>\n",
              "    </tr>\n",
              "  </tbody>\n",
              "</table>\n",
              "</div>"
            ],
            "text/plain": [
              "       Suburb             Address  ...             Regionname Propertycount\n",
              "0  Abbotsford       68 Studley St  ...  Northern Metropolitan        4019.0\n",
              "1  Abbotsford        85 Turner St  ...  Northern Metropolitan        4019.0\n",
              "2  Abbotsford     25 Bloomburg St  ...  Northern Metropolitan        4019.0\n",
              "3  Abbotsford  18/659 Victoria St  ...  Northern Metropolitan        4019.0\n",
              "4  Abbotsford        5 Charles St  ...  Northern Metropolitan        4019.0\n",
              "\n",
              "[5 rows x 21 columns]"
            ]
          },
          "metadata": {
            "tags": []
          },
          "execution_count": 4
        }
      ]
    },
    {
      "cell_type": "code",
      "metadata": {
        "id": "W48S4fbHyj9c",
        "colab_type": "code",
        "outputId": "2ed17cf4-98a0-4d79-8576-74fbf59d37a3",
        "colab": {
          "base_uri": "https://localhost:8080/",
          "height": 35
        }
      },
      "source": [
        "df.shape"
      ],
      "execution_count": 0,
      "outputs": [
        {
          "output_type": "execute_result",
          "data": {
            "text/plain": [
              "(34857, 21)"
            ]
          },
          "metadata": {
            "tags": []
          },
          "execution_count": 37
        }
      ]
    },
    {
      "cell_type": "markdown",
      "metadata": {
        "id": "1a-ONfIOyj9h",
        "colab_type": "text"
      },
      "source": [
        "## Use Case\n",
        "The aim of this project is predicting the prices on housing market in Melbourne, Australia. This problem is rather popular and real estate market is the interest of many people at some point of their lives. Since it's a real-life problem, I consider it to be perfect for a capstone project - it may be a warm-up for future projects of applying these skills to other markets in different countries."
      ]
    },
    {
      "cell_type": "markdown",
      "metadata": {
        "id": "ZxGw3SIiyj9i",
        "colab_type": "text"
      },
      "source": [
        "## Data Source\n",
        "Data was collected from Kaggle and is available here:\n",
        "\n",
        "https://www.kaggle.com/anthonypino/melbourne-housing-market\n",
        "\n",
        "This one was chosen, because the dataset is quite big what makes it good for building models. Also, Kaggle enables fast downloading the data - it's in csv file, so it's just one file to download and we have access to much information. That was a big advantage over gathering data through APIs or web-scraping.\n",
        "\n",
        "What describes each observation in a dataset:\n",
        "*   Suburb - suburb in which property is located\n",
        "*   Address - complete address of a property\n",
        "*   Rooms - number of rooms in the property\n",
        "*   Type - type of property: u - unit, h - house, t- townhouse\n",
        "*   Price - price of property (target variable)\n",
        "*   Method - method sold (not fully descriped)\n",
        "*   SellerG - name of person conducting the selling\n",
        "*   Date - date of selling\n",
        "*   Distance - distance between city centre and a property\n",
        "*   Postcode - postcode of property location\n",
        "*   Bedroom2 - number of bedroom (maybe additional bedroom? - not described)\n",
        "*   Bathroom - number of bathrooms\n",
        "*   Car - number of places to park a car\n",
        "*   Landsize - landsize area of property\n",
        "*   BuildingArea - building area of property\n",
        "*   YearBuilt - year of building a property\n",
        "*   CouncilArea - council area of property\n",
        "*   Lattitude \n",
        "*   Longtitude\n",
        "*   Regionname - region of property\n",
        "*   Propertycount - not discribed, hard to say"
      ]
    },
    {
      "cell_type": "markdown",
      "metadata": {
        "id": "mVcJlQmtyj9i",
        "colab_type": "text"
      },
      "source": [
        "### Data cleansing\n",
        "#### Data types\n",
        "First, let's check the datatypes of each column:"
      ]
    },
    {
      "cell_type": "code",
      "metadata": {
        "id": "iWaHhxrEyj9j",
        "colab_type": "code",
        "outputId": "845b8dd3-4322-40d0-d05f-0528cf954c4c",
        "colab": {
          "base_uri": "https://localhost:8080/",
          "height": 408
        }
      },
      "source": [
        "df.dtypes"
      ],
      "execution_count": 0,
      "outputs": [
        {
          "output_type": "execute_result",
          "data": {
            "text/plain": [
              "Suburb            object\n",
              "Address           object\n",
              "Rooms              int64\n",
              "Type              object\n",
              "Price            float64\n",
              "Method            object\n",
              "SellerG           object\n",
              "Date              object\n",
              "Distance         float64\n",
              "Postcode         float64\n",
              "Bedroom2         float64\n",
              "Bathroom         float64\n",
              "Car              float64\n",
              "Landsize         float64\n",
              "BuildingArea     float64\n",
              "YearBuilt        float64\n",
              "CouncilArea       object\n",
              "Lattitude        float64\n",
              "Longtitude       float64\n",
              "Regionname        object\n",
              "Propertycount    float64\n",
              "dtype: object"
            ]
          },
          "metadata": {
            "tags": []
          },
          "execution_count": 38
        }
      ]
    },
    {
      "cell_type": "markdown",
      "metadata": {
        "id": "0SOOD9Hayj9n",
        "colab_type": "text"
      },
      "source": [
        "Almost everything seems to be correct. 'Date' column needs to be converted to datetime."
      ]
    },
    {
      "cell_type": "code",
      "metadata": {
        "id": "Wh2eW-53yj9o",
        "colab_type": "code",
        "colab": {}
      },
      "source": [
        "# changing column type from object to datetime\n",
        "df['Date'] = df['Date'].astype('datetime64[ns]')"
      ],
      "execution_count": 0,
      "outputs": []
    },
    {
      "cell_type": "markdown",
      "metadata": {
        "id": "KWwJKBjIyj9v",
        "colab_type": "text"
      },
      "source": [
        "Then, since we should not conduct any mathematical computations on post codes, we will convert them to strings - this way they will be treated as a category."
      ]
    },
    {
      "cell_type": "code",
      "metadata": {
        "id": "MSiZnaxpyj9w",
        "colab_type": "code",
        "colab": {}
      },
      "source": [
        "# converting postcode to string\n",
        "df['Postcode'] = df['Postcode'].astype('object')"
      ],
      "execution_count": 0,
      "outputs": []
    },
    {
      "cell_type": "markdown",
      "metadata": {
        "id": "OJdxe_Whyj90",
        "colab_type": "text"
      },
      "source": [
        "Making sure everything is correct:"
      ]
    },
    {
      "cell_type": "code",
      "metadata": {
        "id": "22YneYDdyj91",
        "colab_type": "code",
        "outputId": "ace53531-b62c-451b-bf74-5a147cb81368",
        "colab": {
          "base_uri": "https://localhost:8080/",
          "height": 408
        }
      },
      "source": [
        "df.dtypes"
      ],
      "execution_count": 7,
      "outputs": [
        {
          "output_type": "execute_result",
          "data": {
            "text/plain": [
              "Suburb                   object\n",
              "Address                  object\n",
              "Rooms                     int64\n",
              "Type                     object\n",
              "Price                   float64\n",
              "Method                   object\n",
              "SellerG                  object\n",
              "Date             datetime64[ns]\n",
              "Distance                float64\n",
              "Postcode                 object\n",
              "Bedroom2                float64\n",
              "Bathroom                float64\n",
              "Car                     float64\n",
              "Landsize                float64\n",
              "BuildingArea            float64\n",
              "YearBuilt               float64\n",
              "CouncilArea              object\n",
              "Lattitude               float64\n",
              "Longtitude              float64\n",
              "Regionname               object\n",
              "Propertycount           float64\n",
              "dtype: object"
            ]
          },
          "metadata": {
            "tags": []
          },
          "execution_count": 7
        }
      ]
    },
    {
      "cell_type": "markdown",
      "metadata": {
        "id": "V3FNAlJ3yj95",
        "colab_type": "text"
      },
      "source": [
        "#### Ranges\n",
        "We are checking if the data distribution in each column is correct. First, the numeric values:"
      ]
    },
    {
      "cell_type": "code",
      "metadata": {
        "id": "merPo_BAyj96",
        "colab_type": "code",
        "outputId": "df8e5795-baf4-45ca-b20b-8ab55827f036",
        "colab": {
          "base_uri": "https://localhost:8080/",
          "height": 311
        }
      },
      "source": [
        "df.describe()"
      ],
      "execution_count": 8,
      "outputs": [
        {
          "output_type": "execute_result",
          "data": {
            "text/html": [
              "<div>\n",
              "<style scoped>\n",
              "    .dataframe tbody tr th:only-of-type {\n",
              "        vertical-align: middle;\n",
              "    }\n",
              "\n",
              "    .dataframe tbody tr th {\n",
              "        vertical-align: top;\n",
              "    }\n",
              "\n",
              "    .dataframe thead th {\n",
              "        text-align: right;\n",
              "    }\n",
              "</style>\n",
              "<table border=\"1\" class=\"dataframe\">\n",
              "  <thead>\n",
              "    <tr style=\"text-align: right;\">\n",
              "      <th></th>\n",
              "      <th>Rooms</th>\n",
              "      <th>Price</th>\n",
              "      <th>Distance</th>\n",
              "      <th>Bedroom2</th>\n",
              "      <th>Bathroom</th>\n",
              "      <th>Car</th>\n",
              "      <th>Landsize</th>\n",
              "      <th>BuildingArea</th>\n",
              "      <th>YearBuilt</th>\n",
              "      <th>Lattitude</th>\n",
              "      <th>Longtitude</th>\n",
              "      <th>Propertycount</th>\n",
              "    </tr>\n",
              "  </thead>\n",
              "  <tbody>\n",
              "    <tr>\n",
              "      <th>count</th>\n",
              "      <td>34857.000000</td>\n",
              "      <td>2.724700e+04</td>\n",
              "      <td>34856.000000</td>\n",
              "      <td>26640.000000</td>\n",
              "      <td>26631.000000</td>\n",
              "      <td>26129.000000</td>\n",
              "      <td>23047.000000</td>\n",
              "      <td>13742.00000</td>\n",
              "      <td>15551.000000</td>\n",
              "      <td>26881.000000</td>\n",
              "      <td>26881.000000</td>\n",
              "      <td>34854.000000</td>\n",
              "    </tr>\n",
              "    <tr>\n",
              "      <th>mean</th>\n",
              "      <td>3.031012</td>\n",
              "      <td>1.050173e+06</td>\n",
              "      <td>11.184929</td>\n",
              "      <td>3.084647</td>\n",
              "      <td>1.624798</td>\n",
              "      <td>1.728845</td>\n",
              "      <td>593.598993</td>\n",
              "      <td>160.25640</td>\n",
              "      <td>1965.289885</td>\n",
              "      <td>-37.810634</td>\n",
              "      <td>145.001851</td>\n",
              "      <td>7572.888306</td>\n",
              "    </tr>\n",
              "    <tr>\n",
              "      <th>std</th>\n",
              "      <td>0.969933</td>\n",
              "      <td>6.414671e+05</td>\n",
              "      <td>6.788892</td>\n",
              "      <td>0.980690</td>\n",
              "      <td>0.724212</td>\n",
              "      <td>1.010771</td>\n",
              "      <td>3398.841946</td>\n",
              "      <td>401.26706</td>\n",
              "      <td>37.328178</td>\n",
              "      <td>0.090279</td>\n",
              "      <td>0.120169</td>\n",
              "      <td>4428.090313</td>\n",
              "    </tr>\n",
              "    <tr>\n",
              "      <th>min</th>\n",
              "      <td>1.000000</td>\n",
              "      <td>8.500000e+04</td>\n",
              "      <td>0.000000</td>\n",
              "      <td>0.000000</td>\n",
              "      <td>0.000000</td>\n",
              "      <td>0.000000</td>\n",
              "      <td>0.000000</td>\n",
              "      <td>0.00000</td>\n",
              "      <td>1196.000000</td>\n",
              "      <td>-38.190430</td>\n",
              "      <td>144.423790</td>\n",
              "      <td>83.000000</td>\n",
              "    </tr>\n",
              "    <tr>\n",
              "      <th>25%</th>\n",
              "      <td>2.000000</td>\n",
              "      <td>6.350000e+05</td>\n",
              "      <td>6.400000</td>\n",
              "      <td>2.000000</td>\n",
              "      <td>1.000000</td>\n",
              "      <td>1.000000</td>\n",
              "      <td>224.000000</td>\n",
              "      <td>102.00000</td>\n",
              "      <td>1940.000000</td>\n",
              "      <td>-37.862950</td>\n",
              "      <td>144.933500</td>\n",
              "      <td>4385.000000</td>\n",
              "    </tr>\n",
              "    <tr>\n",
              "      <th>50%</th>\n",
              "      <td>3.000000</td>\n",
              "      <td>8.700000e+05</td>\n",
              "      <td>10.300000</td>\n",
              "      <td>3.000000</td>\n",
              "      <td>2.000000</td>\n",
              "      <td>2.000000</td>\n",
              "      <td>521.000000</td>\n",
              "      <td>136.00000</td>\n",
              "      <td>1970.000000</td>\n",
              "      <td>-37.807600</td>\n",
              "      <td>145.007800</td>\n",
              "      <td>6763.000000</td>\n",
              "    </tr>\n",
              "    <tr>\n",
              "      <th>75%</th>\n",
              "      <td>4.000000</td>\n",
              "      <td>1.295000e+06</td>\n",
              "      <td>14.000000</td>\n",
              "      <td>4.000000</td>\n",
              "      <td>2.000000</td>\n",
              "      <td>2.000000</td>\n",
              "      <td>670.000000</td>\n",
              "      <td>188.00000</td>\n",
              "      <td>2000.000000</td>\n",
              "      <td>-37.754100</td>\n",
              "      <td>145.071900</td>\n",
              "      <td>10412.000000</td>\n",
              "    </tr>\n",
              "    <tr>\n",
              "      <th>max</th>\n",
              "      <td>16.000000</td>\n",
              "      <td>1.120000e+07</td>\n",
              "      <td>48.100000</td>\n",
              "      <td>30.000000</td>\n",
              "      <td>12.000000</td>\n",
              "      <td>26.000000</td>\n",
              "      <td>433014.000000</td>\n",
              "      <td>44515.00000</td>\n",
              "      <td>2106.000000</td>\n",
              "      <td>-37.390200</td>\n",
              "      <td>145.526350</td>\n",
              "      <td>21650.000000</td>\n",
              "    </tr>\n",
              "  </tbody>\n",
              "</table>\n",
              "</div>"
            ],
            "text/plain": [
              "              Rooms         Price  ...    Longtitude  Propertycount\n",
              "count  34857.000000  2.724700e+04  ...  26881.000000   34854.000000\n",
              "mean       3.031012  1.050173e+06  ...    145.001851    7572.888306\n",
              "std        0.969933  6.414671e+05  ...      0.120169    4428.090313\n",
              "min        1.000000  8.500000e+04  ...    144.423790      83.000000\n",
              "25%        2.000000  6.350000e+05  ...    144.933500    4385.000000\n",
              "50%        3.000000  8.700000e+05  ...    145.007800    6763.000000\n",
              "75%        4.000000  1.295000e+06  ...    145.071900   10412.000000\n",
              "max       16.000000  1.120000e+07  ...    145.526350   21650.000000\n",
              "\n",
              "[8 rows x 12 columns]"
            ]
          },
          "metadata": {
            "tags": []
          },
          "execution_count": 8
        }
      ]
    },
    {
      "cell_type": "markdown",
      "metadata": {
        "id": "TPJyeBLryj9-",
        "colab_type": "text"
      },
      "source": [
        "Number of rooms seem to be correct - mean is around 3 and so is median, minimum equals 1 (which is correct since there has to be at least one room in a house). Price also seems to be correct. Distance varies from 0 to 48, which should be correct - the column describes distance from the city centre. Number of bedroom is interesting - since minimmum value is 0, I interpret this columns as 'additional bedroom number', because it is rather impossible for house to have none bedroom. Also, the maximum value of 30, which is higher than maximum of rooms, indicated some issues with data. For bathroom - there are some houses with no bathroom; it should be further investigated to make sure it is not mistaken value. Landsizes vary considerably and so is building area. Year built defenitely needs fixing, since maximum value stands for a year in the future. Longitudes and latitues have correct ranges. Property count is a mysterious column - its distribution doesn't explain variable's role. At this point, the column will be probably excluded from the constructed model, because we don't know its meaning.\n",
        "\n",
        "Let's start with checking bedroom2.\n",
        "\n",
        "First, I want to see if Bedroom2 equal 0 is the indicator of a studio flat."
      ]
    },
    {
      "cell_type": "code",
      "metadata": {
        "scrolled": true,
        "id": "m2Ge19v_yj9_",
        "colab_type": "code",
        "outputId": "82a6ed3e-4c3a-4ac1-a824-3f23bd6623d5",
        "colab": {
          "base_uri": "https://localhost:8080/",
          "height": 564
        }
      },
      "source": [
        "# getting rows where Bedroom2 is zero\n",
        "df[df['Bedroom2'] == 0][['Rooms', 'Price', 'Bedroom2', 'Bathroom']]"
      ],
      "execution_count": 9,
      "outputs": [
        {
          "output_type": "execute_result",
          "data": {
            "text/html": [
              "<div>\n",
              "<style scoped>\n",
              "    .dataframe tbody tr th:only-of-type {\n",
              "        vertical-align: middle;\n",
              "    }\n",
              "\n",
              "    .dataframe tbody tr th {\n",
              "        vertical-align: top;\n",
              "    }\n",
              "\n",
              "    .dataframe thead th {\n",
              "        text-align: right;\n",
              "    }\n",
              "</style>\n",
              "<table border=\"1\" class=\"dataframe\">\n",
              "  <thead>\n",
              "    <tr style=\"text-align: right;\">\n",
              "      <th></th>\n",
              "      <th>Rooms</th>\n",
              "      <th>Price</th>\n",
              "      <th>Bedroom2</th>\n",
              "      <th>Bathroom</th>\n",
              "    </tr>\n",
              "  </thead>\n",
              "  <tbody>\n",
              "    <tr>\n",
              "      <th>218</th>\n",
              "      <td>2</td>\n",
              "      <td>650000.0</td>\n",
              "      <td>0.0</td>\n",
              "      <td>1.0</td>\n",
              "    </tr>\n",
              "    <tr>\n",
              "      <th>1390</th>\n",
              "      <td>3</td>\n",
              "      <td>830000.0</td>\n",
              "      <td>0.0</td>\n",
              "      <td>2.0</td>\n",
              "    </tr>\n",
              "    <tr>\n",
              "      <th>1424</th>\n",
              "      <td>3</td>\n",
              "      <td>1355000.0</td>\n",
              "      <td>0.0</td>\n",
              "      <td>1.0</td>\n",
              "    </tr>\n",
              "    <tr>\n",
              "      <th>1549</th>\n",
              "      <td>3</td>\n",
              "      <td>700000.0</td>\n",
              "      <td>0.0</td>\n",
              "      <td>0.0</td>\n",
              "    </tr>\n",
              "    <tr>\n",
              "      <th>3717</th>\n",
              "      <td>3</td>\n",
              "      <td>NaN</td>\n",
              "      <td>0.0</td>\n",
              "      <td>0.0</td>\n",
              "    </tr>\n",
              "    <tr>\n",
              "      <th>3812</th>\n",
              "      <td>2</td>\n",
              "      <td>410000.0</td>\n",
              "      <td>0.0</td>\n",
              "      <td>0.0</td>\n",
              "    </tr>\n",
              "    <tr>\n",
              "      <th>5547</th>\n",
              "      <td>4</td>\n",
              "      <td>2400000.0</td>\n",
              "      <td>0.0</td>\n",
              "      <td>2.0</td>\n",
              "    </tr>\n",
              "    <tr>\n",
              "      <th>10107</th>\n",
              "      <td>3</td>\n",
              "      <td>1560000.0</td>\n",
              "      <td>0.0</td>\n",
              "      <td>2.0</td>\n",
              "    </tr>\n",
              "    <tr>\n",
              "      <th>11193</th>\n",
              "      <td>2</td>\n",
              "      <td>872000.0</td>\n",
              "      <td>0.0</td>\n",
              "      <td>0.0</td>\n",
              "    </tr>\n",
              "    <tr>\n",
              "      <th>11234</th>\n",
              "      <td>3</td>\n",
              "      <td>585000.0</td>\n",
              "      <td>0.0</td>\n",
              "      <td>1.0</td>\n",
              "    </tr>\n",
              "    <tr>\n",
              "      <th>12013</th>\n",
              "      <td>3</td>\n",
              "      <td>1030000.0</td>\n",
              "      <td>0.0</td>\n",
              "      <td>1.0</td>\n",
              "    </tr>\n",
              "    <tr>\n",
              "      <th>12217</th>\n",
              "      <td>3</td>\n",
              "      <td>1670000.0</td>\n",
              "      <td>0.0</td>\n",
              "      <td>0.0</td>\n",
              "    </tr>\n",
              "    <tr>\n",
              "      <th>13558</th>\n",
              "      <td>4</td>\n",
              "      <td>678500.0</td>\n",
              "      <td>0.0</td>\n",
              "      <td>1.0</td>\n",
              "    </tr>\n",
              "    <tr>\n",
              "      <th>14708</th>\n",
              "      <td>4</td>\n",
              "      <td>1026000.0</td>\n",
              "      <td>0.0</td>\n",
              "      <td>3.0</td>\n",
              "    </tr>\n",
              "    <tr>\n",
              "      <th>15294</th>\n",
              "      <td>2</td>\n",
              "      <td>535000.0</td>\n",
              "      <td>0.0</td>\n",
              "      <td>1.0</td>\n",
              "    </tr>\n",
              "    <tr>\n",
              "      <th>16322</th>\n",
              "      <td>2</td>\n",
              "      <td>1480000.0</td>\n",
              "      <td>0.0</td>\n",
              "      <td>0.0</td>\n",
              "    </tr>\n",
              "    <tr>\n",
              "      <th>18304</th>\n",
              "      <td>3</td>\n",
              "      <td>702000.0</td>\n",
              "      <td>0.0</td>\n",
              "      <td>0.0</td>\n",
              "    </tr>\n",
              "  </tbody>\n",
              "</table>\n",
              "</div>"
            ],
            "text/plain": [
              "       Rooms      Price  Bedroom2  Bathroom\n",
              "218        2   650000.0       0.0       1.0\n",
              "1390       3   830000.0       0.0       2.0\n",
              "1424       3  1355000.0       0.0       1.0\n",
              "1549       3   700000.0       0.0       0.0\n",
              "3717       3        NaN       0.0       0.0\n",
              "3812       2   410000.0       0.0       0.0\n",
              "5547       4  2400000.0       0.0       2.0\n",
              "10107      3  1560000.0       0.0       2.0\n",
              "11193      2   872000.0       0.0       0.0\n",
              "11234      3   585000.0       0.0       1.0\n",
              "12013      3  1030000.0       0.0       1.0\n",
              "12217      3  1670000.0       0.0       0.0\n",
              "13558      4   678500.0       0.0       1.0\n",
              "14708      4  1026000.0       0.0       3.0\n",
              "15294      2   535000.0       0.0       1.0\n",
              "16322      2  1480000.0       0.0       0.0\n",
              "18304      3   702000.0       0.0       0.0"
            ]
          },
          "metadata": {
            "tags": []
          },
          "execution_count": 9
        }
      ]
    },
    {
      "cell_type": "markdown",
      "metadata": {
        "id": "8LtXFDoFyj-C",
        "colab_type": "text"
      },
      "source": [
        "There is no logic behind zero bedrooms. In every case there are two or more rooms, it is hard to say if bedroom is included or not. The conclusion is that zero could be changed into missing values, because it is simply misleading.\n",
        "\n",
        "Next, I am checking houses with none bathrooms."
      ]
    },
    {
      "cell_type": "code",
      "metadata": {
        "scrolled": true,
        "id": "QohfMSKUyj-D",
        "colab_type": "code",
        "outputId": "74e6f73e-75f3-44fa-c4fe-b3d86879293e",
        "colab": {
          "base_uri": "https://localhost:8080/",
          "height": 1000
        }
      },
      "source": [
        "# getting rows where number of bathrooms is zero\n",
        "df[df['Bathroom'] == 0][['Rooms', 'Price', 'Bedroom2', 'Bathroom']]"
      ],
      "execution_count": 10,
      "outputs": [
        {
          "output_type": "execute_result",
          "data": {
            "text/html": [
              "<div>\n",
              "<style scoped>\n",
              "    .dataframe tbody tr th:only-of-type {\n",
              "        vertical-align: middle;\n",
              "    }\n",
              "\n",
              "    .dataframe tbody tr th {\n",
              "        vertical-align: top;\n",
              "    }\n",
              "\n",
              "    .dataframe thead th {\n",
              "        text-align: right;\n",
              "    }\n",
              "</style>\n",
              "<table border=\"1\" class=\"dataframe\">\n",
              "  <thead>\n",
              "    <tr style=\"text-align: right;\">\n",
              "      <th></th>\n",
              "      <th>Rooms</th>\n",
              "      <th>Price</th>\n",
              "      <th>Bedroom2</th>\n",
              "      <th>Bathroom</th>\n",
              "    </tr>\n",
              "  </thead>\n",
              "  <tbody>\n",
              "    <tr>\n",
              "      <th>228</th>\n",
              "      <td>3</td>\n",
              "      <td>1485000.0</td>\n",
              "      <td>3.0</td>\n",
              "      <td>0.0</td>\n",
              "    </tr>\n",
              "    <tr>\n",
              "      <th>481</th>\n",
              "      <td>2</td>\n",
              "      <td>546000.0</td>\n",
              "      <td>2.0</td>\n",
              "      <td>0.0</td>\n",
              "    </tr>\n",
              "    <tr>\n",
              "      <th>845</th>\n",
              "      <td>2</td>\n",
              "      <td>497500.0</td>\n",
              "      <td>2.0</td>\n",
              "      <td>0.0</td>\n",
              "    </tr>\n",
              "    <tr>\n",
              "      <th>1009</th>\n",
              "      <td>2</td>\n",
              "      <td>1010000.0</td>\n",
              "      <td>2.0</td>\n",
              "      <td>0.0</td>\n",
              "    </tr>\n",
              "    <tr>\n",
              "      <th>1549</th>\n",
              "      <td>3</td>\n",
              "      <td>700000.0</td>\n",
              "      <td>0.0</td>\n",
              "      <td>0.0</td>\n",
              "    </tr>\n",
              "    <tr>\n",
              "      <th>1772</th>\n",
              "      <td>3</td>\n",
              "      <td>1900000.0</td>\n",
              "      <td>3.0</td>\n",
              "      <td>0.0</td>\n",
              "    </tr>\n",
              "    <tr>\n",
              "      <th>1784</th>\n",
              "      <td>3</td>\n",
              "      <td>1067000.0</td>\n",
              "      <td>3.0</td>\n",
              "      <td>0.0</td>\n",
              "    </tr>\n",
              "    <tr>\n",
              "      <th>2716</th>\n",
              "      <td>4</td>\n",
              "      <td>1400000.0</td>\n",
              "      <td>3.0</td>\n",
              "      <td>0.0</td>\n",
              "    </tr>\n",
              "    <tr>\n",
              "      <th>2853</th>\n",
              "      <td>3</td>\n",
              "      <td>NaN</td>\n",
              "      <td>3.0</td>\n",
              "      <td>0.0</td>\n",
              "    </tr>\n",
              "    <tr>\n",
              "      <th>3717</th>\n",
              "      <td>3</td>\n",
              "      <td>NaN</td>\n",
              "      <td>0.0</td>\n",
              "      <td>0.0</td>\n",
              "    </tr>\n",
              "    <tr>\n",
              "      <th>3812</th>\n",
              "      <td>2</td>\n",
              "      <td>410000.0</td>\n",
              "      <td>0.0</td>\n",
              "      <td>0.0</td>\n",
              "    </tr>\n",
              "    <tr>\n",
              "      <th>4434</th>\n",
              "      <td>2</td>\n",
              "      <td>NaN</td>\n",
              "      <td>2.0</td>\n",
              "      <td>0.0</td>\n",
              "    </tr>\n",
              "    <tr>\n",
              "      <th>4567</th>\n",
              "      <td>2</td>\n",
              "      <td>845000.0</td>\n",
              "      <td>2.0</td>\n",
              "      <td>0.0</td>\n",
              "    </tr>\n",
              "    <tr>\n",
              "      <th>4611</th>\n",
              "      <td>4</td>\n",
              "      <td>1550000.0</td>\n",
              "      <td>4.0</td>\n",
              "      <td>0.0</td>\n",
              "    </tr>\n",
              "    <tr>\n",
              "      <th>4637</th>\n",
              "      <td>2</td>\n",
              "      <td>545000.0</td>\n",
              "      <td>3.0</td>\n",
              "      <td>0.0</td>\n",
              "    </tr>\n",
              "    <tr>\n",
              "      <th>5590</th>\n",
              "      <td>2</td>\n",
              "      <td>460000.0</td>\n",
              "      <td>2.0</td>\n",
              "      <td>0.0</td>\n",
              "    </tr>\n",
              "    <tr>\n",
              "      <th>5827</th>\n",
              "      <td>2</td>\n",
              "      <td>526000.0</td>\n",
              "      <td>2.0</td>\n",
              "      <td>0.0</td>\n",
              "    </tr>\n",
              "    <tr>\n",
              "      <th>6242</th>\n",
              "      <td>3</td>\n",
              "      <td>NaN</td>\n",
              "      <td>3.0</td>\n",
              "      <td>0.0</td>\n",
              "    </tr>\n",
              "    <tr>\n",
              "      <th>6249</th>\n",
              "      <td>3</td>\n",
              "      <td>NaN</td>\n",
              "      <td>3.0</td>\n",
              "      <td>0.0</td>\n",
              "    </tr>\n",
              "    <tr>\n",
              "      <th>6263</th>\n",
              "      <td>2</td>\n",
              "      <td>780000.0</td>\n",
              "      <td>2.0</td>\n",
              "      <td>0.0</td>\n",
              "    </tr>\n",
              "    <tr>\n",
              "      <th>6713</th>\n",
              "      <td>2</td>\n",
              "      <td>NaN</td>\n",
              "      <td>2.0</td>\n",
              "      <td>0.0</td>\n",
              "    </tr>\n",
              "    <tr>\n",
              "      <th>8106</th>\n",
              "      <td>4</td>\n",
              "      <td>1004000.0</td>\n",
              "      <td>3.0</td>\n",
              "      <td>0.0</td>\n",
              "    </tr>\n",
              "    <tr>\n",
              "      <th>9132</th>\n",
              "      <td>1</td>\n",
              "      <td>760500.0</td>\n",
              "      <td>2.0</td>\n",
              "      <td>0.0</td>\n",
              "    </tr>\n",
              "    <tr>\n",
              "      <th>9174</th>\n",
              "      <td>2</td>\n",
              "      <td>NaN</td>\n",
              "      <td>2.0</td>\n",
              "      <td>0.0</td>\n",
              "    </tr>\n",
              "    <tr>\n",
              "      <th>9280</th>\n",
              "      <td>3</td>\n",
              "      <td>1072000.0</td>\n",
              "      <td>3.0</td>\n",
              "      <td>0.0</td>\n",
              "    </tr>\n",
              "    <tr>\n",
              "      <th>9389</th>\n",
              "      <td>2</td>\n",
              "      <td>910000.0</td>\n",
              "      <td>2.0</td>\n",
              "      <td>0.0</td>\n",
              "    </tr>\n",
              "    <tr>\n",
              "      <th>10485</th>\n",
              "      <td>2</td>\n",
              "      <td>857000.0</td>\n",
              "      <td>2.0</td>\n",
              "      <td>0.0</td>\n",
              "    </tr>\n",
              "    <tr>\n",
              "      <th>10518</th>\n",
              "      <td>2</td>\n",
              "      <td>866000.0</td>\n",
              "      <td>2.0</td>\n",
              "      <td>0.0</td>\n",
              "    </tr>\n",
              "    <tr>\n",
              "      <th>10519</th>\n",
              "      <td>2</td>\n",
              "      <td>NaN</td>\n",
              "      <td>2.0</td>\n",
              "      <td>0.0</td>\n",
              "    </tr>\n",
              "    <tr>\n",
              "      <th>10650</th>\n",
              "      <td>4</td>\n",
              "      <td>NaN</td>\n",
              "      <td>3.0</td>\n",
              "      <td>0.0</td>\n",
              "    </tr>\n",
              "    <tr>\n",
              "      <th>10879</th>\n",
              "      <td>2</td>\n",
              "      <td>410000.0</td>\n",
              "      <td>2.0</td>\n",
              "      <td>0.0</td>\n",
              "    </tr>\n",
              "    <tr>\n",
              "      <th>10915</th>\n",
              "      <td>2</td>\n",
              "      <td>610000.0</td>\n",
              "      <td>2.0</td>\n",
              "      <td>0.0</td>\n",
              "    </tr>\n",
              "    <tr>\n",
              "      <th>11174</th>\n",
              "      <td>2</td>\n",
              "      <td>740000.0</td>\n",
              "      <td>2.0</td>\n",
              "      <td>0.0</td>\n",
              "    </tr>\n",
              "    <tr>\n",
              "      <th>11193</th>\n",
              "      <td>2</td>\n",
              "      <td>872000.0</td>\n",
              "      <td>0.0</td>\n",
              "      <td>0.0</td>\n",
              "    </tr>\n",
              "    <tr>\n",
              "      <th>11301</th>\n",
              "      <td>3</td>\n",
              "      <td>470000.0</td>\n",
              "      <td>3.0</td>\n",
              "      <td>0.0</td>\n",
              "    </tr>\n",
              "    <tr>\n",
              "      <th>11651</th>\n",
              "      <td>3</td>\n",
              "      <td>NaN</td>\n",
              "      <td>2.0</td>\n",
              "      <td>0.0</td>\n",
              "    </tr>\n",
              "    <tr>\n",
              "      <th>12217</th>\n",
              "      <td>3</td>\n",
              "      <td>1670000.0</td>\n",
              "      <td>0.0</td>\n",
              "      <td>0.0</td>\n",
              "    </tr>\n",
              "    <tr>\n",
              "      <th>13058</th>\n",
              "      <td>3</td>\n",
              "      <td>1060000.0</td>\n",
              "      <td>3.0</td>\n",
              "      <td>0.0</td>\n",
              "    </tr>\n",
              "    <tr>\n",
              "      <th>13181</th>\n",
              "      <td>3</td>\n",
              "      <td>NaN</td>\n",
              "      <td>3.0</td>\n",
              "      <td>0.0</td>\n",
              "    </tr>\n",
              "    <tr>\n",
              "      <th>13515</th>\n",
              "      <td>3</td>\n",
              "      <td>1010000.0</td>\n",
              "      <td>3.0</td>\n",
              "      <td>0.0</td>\n",
              "    </tr>\n",
              "    <tr>\n",
              "      <th>14870</th>\n",
              "      <td>2</td>\n",
              "      <td>350000.0</td>\n",
              "      <td>2.0</td>\n",
              "      <td>0.0</td>\n",
              "    </tr>\n",
              "    <tr>\n",
              "      <th>16064</th>\n",
              "      <td>6</td>\n",
              "      <td>NaN</td>\n",
              "      <td>6.0</td>\n",
              "      <td>0.0</td>\n",
              "    </tr>\n",
              "    <tr>\n",
              "      <th>16322</th>\n",
              "      <td>2</td>\n",
              "      <td>1480000.0</td>\n",
              "      <td>0.0</td>\n",
              "      <td>0.0</td>\n",
              "    </tr>\n",
              "    <tr>\n",
              "      <th>17718</th>\n",
              "      <td>3</td>\n",
              "      <td>1150000.0</td>\n",
              "      <td>3.0</td>\n",
              "      <td>0.0</td>\n",
              "    </tr>\n",
              "    <tr>\n",
              "      <th>17865</th>\n",
              "      <td>2</td>\n",
              "      <td>700000.0</td>\n",
              "      <td>2.0</td>\n",
              "      <td>0.0</td>\n",
              "    </tr>\n",
              "    <tr>\n",
              "      <th>18304</th>\n",
              "      <td>3</td>\n",
              "      <td>702000.0</td>\n",
              "      <td>0.0</td>\n",
              "      <td>0.0</td>\n",
              "    </tr>\n",
              "  </tbody>\n",
              "</table>\n",
              "</div>"
            ],
            "text/plain": [
              "       Rooms      Price  Bedroom2  Bathroom\n",
              "228        3  1485000.0       3.0       0.0\n",
              "481        2   546000.0       2.0       0.0\n",
              "845        2   497500.0       2.0       0.0\n",
              "1009       2  1010000.0       2.0       0.0\n",
              "1549       3   700000.0       0.0       0.0\n",
              "1772       3  1900000.0       3.0       0.0\n",
              "1784       3  1067000.0       3.0       0.0\n",
              "2716       4  1400000.0       3.0       0.0\n",
              "2853       3        NaN       3.0       0.0\n",
              "3717       3        NaN       0.0       0.0\n",
              "3812       2   410000.0       0.0       0.0\n",
              "4434       2        NaN       2.0       0.0\n",
              "4567       2   845000.0       2.0       0.0\n",
              "4611       4  1550000.0       4.0       0.0\n",
              "4637       2   545000.0       3.0       0.0\n",
              "5590       2   460000.0       2.0       0.0\n",
              "5827       2   526000.0       2.0       0.0\n",
              "6242       3        NaN       3.0       0.0\n",
              "6249       3        NaN       3.0       0.0\n",
              "6263       2   780000.0       2.0       0.0\n",
              "6713       2        NaN       2.0       0.0\n",
              "8106       4  1004000.0       3.0       0.0\n",
              "9132       1   760500.0       2.0       0.0\n",
              "9174       2        NaN       2.0       0.0\n",
              "9280       3  1072000.0       3.0       0.0\n",
              "9389       2   910000.0       2.0       0.0\n",
              "10485      2   857000.0       2.0       0.0\n",
              "10518      2   866000.0       2.0       0.0\n",
              "10519      2        NaN       2.0       0.0\n",
              "10650      4        NaN       3.0       0.0\n",
              "10879      2   410000.0       2.0       0.0\n",
              "10915      2   610000.0       2.0       0.0\n",
              "11174      2   740000.0       2.0       0.0\n",
              "11193      2   872000.0       0.0       0.0\n",
              "11301      3   470000.0       3.0       0.0\n",
              "11651      3        NaN       2.0       0.0\n",
              "12217      3  1670000.0       0.0       0.0\n",
              "13058      3  1060000.0       3.0       0.0\n",
              "13181      3        NaN       3.0       0.0\n",
              "13515      3  1010000.0       3.0       0.0\n",
              "14870      2   350000.0       2.0       0.0\n",
              "16064      6        NaN       6.0       0.0\n",
              "16322      2  1480000.0       0.0       0.0\n",
              "17718      3  1150000.0       3.0       0.0\n",
              "17865      2   700000.0       2.0       0.0\n",
              "18304      3   702000.0       0.0       0.0"
            ]
          },
          "metadata": {
            "tags": []
          },
          "execution_count": 10
        }
      ]
    },
    {
      "cell_type": "markdown",
      "metadata": {
        "id": "t-YQhpNAyj-F",
        "colab_type": "text"
      },
      "source": [
        "Here, as well, zero bathrooms seem to occur by accident. There is no correlation with price nor with number of rooms. Also, Melbourne is a big modern city, so I would not expect houses without bathroom there. I am turning zeros in both bedrooms and bathrooms into NaNs."
      ]
    },
    {
      "cell_type": "code",
      "metadata": {
        "id": "hy6EkXhJyj-G",
        "colab_type": "code",
        "colab": {}
      },
      "source": [
        "# replacing 0 with nan for bedroom and bathroom columns\n",
        "df['Bedroom2'].replace(0, np.nan, inplace=True)\n",
        "df['Bathroom'].replace(0, np.nan, inplace=True)"
      ],
      "execution_count": 0,
      "outputs": []
    },
    {
      "cell_type": "markdown",
      "metadata": {
        "id": "5Ftigtjxyj-J",
        "colab_type": "text"
      },
      "source": [
        "Another column that has peculiar range is YearBuilt. I want to see all the rows with false values - dataset is from January 2016, so I consider all the rows containing YearBuilt higher than 2016 possibly mistaken."
      ]
    },
    {
      "cell_type": "code",
      "metadata": {
        "scrolled": true,
        "id": "20H-xIDlyj-K",
        "colab_type": "code",
        "outputId": "d7bae984-b96b-46ca-b7b9-093c1a4b3991",
        "colab": {
          "base_uri": "https://localhost:8080/",
          "height": 670
        }
      },
      "source": [
        "# getting rows with odd year of building\n",
        "df[df['YearBuilt'] > 2016]"
      ],
      "execution_count": 12,
      "outputs": [
        {
          "output_type": "execute_result",
          "data": {
            "text/html": [
              "<div>\n",
              "<style scoped>\n",
              "    .dataframe tbody tr th:only-of-type {\n",
              "        vertical-align: middle;\n",
              "    }\n",
              "\n",
              "    .dataframe tbody tr th {\n",
              "        vertical-align: top;\n",
              "    }\n",
              "\n",
              "    .dataframe thead th {\n",
              "        text-align: right;\n",
              "    }\n",
              "</style>\n",
              "<table border=\"1\" class=\"dataframe\">\n",
              "  <thead>\n",
              "    <tr style=\"text-align: right;\">\n",
              "      <th></th>\n",
              "      <th>Suburb</th>\n",
              "      <th>Address</th>\n",
              "      <th>Rooms</th>\n",
              "      <th>Type</th>\n",
              "      <th>Price</th>\n",
              "      <th>Method</th>\n",
              "      <th>SellerG</th>\n",
              "      <th>Date</th>\n",
              "      <th>Distance</th>\n",
              "      <th>Postcode</th>\n",
              "      <th>Bedroom2</th>\n",
              "      <th>Bathroom</th>\n",
              "      <th>Car</th>\n",
              "      <th>Landsize</th>\n",
              "      <th>BuildingArea</th>\n",
              "      <th>YearBuilt</th>\n",
              "      <th>CouncilArea</th>\n",
              "      <th>Lattitude</th>\n",
              "      <th>Longtitude</th>\n",
              "      <th>Regionname</th>\n",
              "      <th>Propertycount</th>\n",
              "    </tr>\n",
              "  </thead>\n",
              "  <tbody>\n",
              "    <tr>\n",
              "      <th>750</th>\n",
              "      <td>Avondale Heights</td>\n",
              "      <td>157 Canning St</td>\n",
              "      <td>3</td>\n",
              "      <td>t</td>\n",
              "      <td>851000.0</td>\n",
              "      <td>S</td>\n",
              "      <td>Nelson</td>\n",
              "      <td>2016-03-12</td>\n",
              "      <td>10.5</td>\n",
              "      <td>3034</td>\n",
              "      <td>3.0</td>\n",
              "      <td>3.0</td>\n",
              "      <td>1.0</td>\n",
              "      <td>557.0</td>\n",
              "      <td>181.0</td>\n",
              "      <td>2017.0</td>\n",
              "      <td>Moonee Valley City Council</td>\n",
              "      <td>-37.77000</td>\n",
              "      <td>144.85720</td>\n",
              "      <td>Western Metropolitan</td>\n",
              "      <td>4502.0</td>\n",
              "    </tr>\n",
              "    <tr>\n",
              "      <th>2096</th>\n",
              "      <td>Brighton East</td>\n",
              "      <td>8 Thomas St</td>\n",
              "      <td>2</td>\n",
              "      <td>h</td>\n",
              "      <td>1310000.0</td>\n",
              "      <td>S</td>\n",
              "      <td>Buxton</td>\n",
              "      <td>2016-09-24</td>\n",
              "      <td>10.7</td>\n",
              "      <td>3187</td>\n",
              "      <td>4.0</td>\n",
              "      <td>3.0</td>\n",
              "      <td>2.0</td>\n",
              "      <td>302.0</td>\n",
              "      <td>250.0</td>\n",
              "      <td>2018.0</td>\n",
              "      <td>Bayside City Council</td>\n",
              "      <td>-37.91820</td>\n",
              "      <td>145.02310</td>\n",
              "      <td>Southern Metropolitan</td>\n",
              "      <td>6938.0</td>\n",
              "    </tr>\n",
              "    <tr>\n",
              "      <th>2453</th>\n",
              "      <td>Bulleen</td>\n",
              "      <td>3 Maringa St</td>\n",
              "      <td>4</td>\n",
              "      <td>h</td>\n",
              "      <td>NaN</td>\n",
              "      <td>SP</td>\n",
              "      <td>Ray</td>\n",
              "      <td>2016-07-11</td>\n",
              "      <td>11.8</td>\n",
              "      <td>3105</td>\n",
              "      <td>4.0</td>\n",
              "      <td>2.0</td>\n",
              "      <td>2.0</td>\n",
              "      <td>729.0</td>\n",
              "      <td>255.0</td>\n",
              "      <td>2106.0</td>\n",
              "      <td>Manningham City Council</td>\n",
              "      <td>-37.76370</td>\n",
              "      <td>145.08810</td>\n",
              "      <td>Eastern Metropolitan</td>\n",
              "      <td>4480.0</td>\n",
              "    </tr>\n",
              "    <tr>\n",
              "      <th>4758</th>\n",
              "      <td>Glenroy</td>\n",
              "      <td>2 Roy St</td>\n",
              "      <td>4</td>\n",
              "      <td>h</td>\n",
              "      <td>550000.0</td>\n",
              "      <td>VB</td>\n",
              "      <td>Peter</td>\n",
              "      <td>2017-04-03</td>\n",
              "      <td>13.0</td>\n",
              "      <td>3046</td>\n",
              "      <td>4.0</td>\n",
              "      <td>2.0</td>\n",
              "      <td>1.0</td>\n",
              "      <td>683.0</td>\n",
              "      <td>138.0</td>\n",
              "      <td>2017.0</td>\n",
              "      <td>Moreland City Council</td>\n",
              "      <td>-37.69640</td>\n",
              "      <td>144.93140</td>\n",
              "      <td>Northern Metropolitan</td>\n",
              "      <td>8870.0</td>\n",
              "    </tr>\n",
              "    <tr>\n",
              "      <th>4882</th>\n",
              "      <td>Glenroy</td>\n",
              "      <td>40 Augustine Tce</td>\n",
              "      <td>3</td>\n",
              "      <td>h</td>\n",
              "      <td>NaN</td>\n",
              "      <td>SN</td>\n",
              "      <td>Melbourne</td>\n",
              "      <td>2016-07-26</td>\n",
              "      <td>13.0</td>\n",
              "      <td>3046</td>\n",
              "      <td>3.0</td>\n",
              "      <td>1.0</td>\n",
              "      <td>1.0</td>\n",
              "      <td>707.0</td>\n",
              "      <td>116.0</td>\n",
              "      <td>2017.0</td>\n",
              "      <td>Moreland City Council</td>\n",
              "      <td>-37.69870</td>\n",
              "      <td>144.91040</td>\n",
              "      <td>Northern Metropolitan</td>\n",
              "      <td>8870.0</td>\n",
              "    </tr>\n",
              "    <tr>\n",
              "      <th>...</th>\n",
              "      <td>...</td>\n",
              "      <td>...</td>\n",
              "      <td>...</td>\n",
              "      <td>...</td>\n",
              "      <td>...</td>\n",
              "      <td>...</td>\n",
              "      <td>...</td>\n",
              "      <td>...</td>\n",
              "      <td>...</td>\n",
              "      <td>...</td>\n",
              "      <td>...</td>\n",
              "      <td>...</td>\n",
              "      <td>...</td>\n",
              "      <td>...</td>\n",
              "      <td>...</td>\n",
              "      <td>...</td>\n",
              "      <td>...</td>\n",
              "      <td>...</td>\n",
              "      <td>...</td>\n",
              "      <td>...</td>\n",
              "      <td>...</td>\n",
              "    </tr>\n",
              "    <tr>\n",
              "      <th>34486</th>\n",
              "      <td>Mernda</td>\n",
              "      <td>12 Friesian St</td>\n",
              "      <td>4</td>\n",
              "      <td>h</td>\n",
              "      <td>535000.0</td>\n",
              "      <td>S</td>\n",
              "      <td>HAR</td>\n",
              "      <td>2018-02-24</td>\n",
              "      <td>25.9</td>\n",
              "      <td>3754</td>\n",
              "      <td>4.0</td>\n",
              "      <td>2.0</td>\n",
              "      <td>2.0</td>\n",
              "      <td>294.0</td>\n",
              "      <td>NaN</td>\n",
              "      <td>2017.0</td>\n",
              "      <td>Whittlesea City Council</td>\n",
              "      <td>-37.58651</td>\n",
              "      <td>145.08104</td>\n",
              "      <td>Northern Metropolitan</td>\n",
              "      <td>5812.0</td>\n",
              "    </tr>\n",
              "    <tr>\n",
              "      <th>34534</th>\n",
              "      <td>Moorabbin</td>\n",
              "      <td>20b Grandview Gr</td>\n",
              "      <td>4</td>\n",
              "      <td>t</td>\n",
              "      <td>1250000.0</td>\n",
              "      <td>VB</td>\n",
              "      <td>Buxton</td>\n",
              "      <td>2018-02-24</td>\n",
              "      <td>14.3</td>\n",
              "      <td>3189</td>\n",
              "      <td>4.0</td>\n",
              "      <td>3.0</td>\n",
              "      <td>2.0</td>\n",
              "      <td>339.0</td>\n",
              "      <td>262.0</td>\n",
              "      <td>2017.0</td>\n",
              "      <td>Kingston City Council</td>\n",
              "      <td>-37.94372</td>\n",
              "      <td>145.04611</td>\n",
              "      <td>Southern Metropolitan</td>\n",
              "      <td>2555.0</td>\n",
              "    </tr>\n",
              "    <tr>\n",
              "      <th>34559</th>\n",
              "      <td>Murrumbeena</td>\n",
              "      <td>43b Kinlock Av</td>\n",
              "      <td>3</td>\n",
              "      <td>t</td>\n",
              "      <td>1325000.0</td>\n",
              "      <td>S</td>\n",
              "      <td>Buxton</td>\n",
              "      <td>2018-02-24</td>\n",
              "      <td>10.1</td>\n",
              "      <td>3163</td>\n",
              "      <td>3.0</td>\n",
              "      <td>2.0</td>\n",
              "      <td>1.0</td>\n",
              "      <td>287.0</td>\n",
              "      <td>225.0</td>\n",
              "      <td>2017.0</td>\n",
              "      <td>Glen Eira City Council</td>\n",
              "      <td>-37.90522</td>\n",
              "      <td>145.07109</td>\n",
              "      <td>Southern Metropolitan</td>\n",
              "      <td>4442.0</td>\n",
              "    </tr>\n",
              "    <tr>\n",
              "      <th>34760</th>\n",
              "      <td>Sunshine North</td>\n",
              "      <td>40 Warwick Rd</td>\n",
              "      <td>3</td>\n",
              "      <td>h</td>\n",
              "      <td>890000.0</td>\n",
              "      <td>S</td>\n",
              "      <td>Ray</td>\n",
              "      <td>2018-02-24</td>\n",
              "      <td>10.5</td>\n",
              "      <td>3020</td>\n",
              "      <td>3.0</td>\n",
              "      <td>2.0</td>\n",
              "      <td>2.0</td>\n",
              "      <td>695.0</td>\n",
              "      <td>153.0</td>\n",
              "      <td>2018.0</td>\n",
              "      <td>Brimbank City Council</td>\n",
              "      <td>-37.76883</td>\n",
              "      <td>144.83974</td>\n",
              "      <td>Western Metropolitan</td>\n",
              "      <td>4217.0</td>\n",
              "    </tr>\n",
              "    <tr>\n",
              "      <th>34853</th>\n",
              "      <td>Yarraville</td>\n",
              "      <td>29A Murray St</td>\n",
              "      <td>2</td>\n",
              "      <td>h</td>\n",
              "      <td>888000.0</td>\n",
              "      <td>SP</td>\n",
              "      <td>Sweeney</td>\n",
              "      <td>2018-02-24</td>\n",
              "      <td>6.3</td>\n",
              "      <td>3013</td>\n",
              "      <td>2.0</td>\n",
              "      <td>2.0</td>\n",
              "      <td>1.0</td>\n",
              "      <td>98.0</td>\n",
              "      <td>104.0</td>\n",
              "      <td>2018.0</td>\n",
              "      <td>Maribyrnong City Council</td>\n",
              "      <td>-37.81551</td>\n",
              "      <td>144.88826</td>\n",
              "      <td>Western Metropolitan</td>\n",
              "      <td>6543.0</td>\n",
              "    </tr>\n",
              "  </tbody>\n",
              "</table>\n",
              "<p>88 rows × 21 columns</p>\n",
              "</div>"
            ],
            "text/plain": [
              "                 Suburb           Address  ...             Regionname Propertycount\n",
              "750    Avondale Heights    157 Canning St  ...   Western Metropolitan        4502.0\n",
              "2096      Brighton East       8 Thomas St  ...  Southern Metropolitan        6938.0\n",
              "2453            Bulleen      3 Maringa St  ...   Eastern Metropolitan        4480.0\n",
              "4758            Glenroy          2 Roy St  ...  Northern Metropolitan        8870.0\n",
              "4882            Glenroy  40 Augustine Tce  ...  Northern Metropolitan        8870.0\n",
              "...                 ...               ...  ...                    ...           ...\n",
              "34486            Mernda    12 Friesian St  ...  Northern Metropolitan        5812.0\n",
              "34534         Moorabbin  20b Grandview Gr  ...  Southern Metropolitan        2555.0\n",
              "34559       Murrumbeena    43b Kinlock Av  ...  Southern Metropolitan        4442.0\n",
              "34760    Sunshine North     40 Warwick Rd  ...   Western Metropolitan        4217.0\n",
              "34853        Yarraville     29A Murray St  ...   Western Metropolitan        6543.0\n",
              "\n",
              "[88 rows x 21 columns]"
            ]
          },
          "metadata": {
            "tags": []
          },
          "execution_count": 12
        }
      ]
    },
    {
      "cell_type": "markdown",
      "metadata": {
        "id": "3okU9k3Iyj-P",
        "colab_type": "text"
      },
      "source": [
        "Many rows contain 2017 as year of building. Assuming the dataset include offers from primary market, I am accepting all rows with YearBuilt lower than 2020."
      ]
    },
    {
      "cell_type": "code",
      "metadata": {
        "id": "hPEN9nX1yj-Q",
        "colab_type": "code",
        "outputId": "3ca9b27d-492b-4584-dc8d-e571ca4de435",
        "colab": {
          "base_uri": "https://localhost:8080/",
          "height": 132
        }
      },
      "source": [
        "# getting rows with too late year of built\n",
        "df[df['YearBuilt'] > 2020]"
      ],
      "execution_count": 13,
      "outputs": [
        {
          "output_type": "execute_result",
          "data": {
            "text/html": [
              "<div>\n",
              "<style scoped>\n",
              "    .dataframe tbody tr th:only-of-type {\n",
              "        vertical-align: middle;\n",
              "    }\n",
              "\n",
              "    .dataframe tbody tr th {\n",
              "        vertical-align: top;\n",
              "    }\n",
              "\n",
              "    .dataframe thead th {\n",
              "        text-align: right;\n",
              "    }\n",
              "</style>\n",
              "<table border=\"1\" class=\"dataframe\">\n",
              "  <thead>\n",
              "    <tr style=\"text-align: right;\">\n",
              "      <th></th>\n",
              "      <th>Suburb</th>\n",
              "      <th>Address</th>\n",
              "      <th>Rooms</th>\n",
              "      <th>Type</th>\n",
              "      <th>Price</th>\n",
              "      <th>Method</th>\n",
              "      <th>SellerG</th>\n",
              "      <th>Date</th>\n",
              "      <th>Distance</th>\n",
              "      <th>Postcode</th>\n",
              "      <th>Bedroom2</th>\n",
              "      <th>Bathroom</th>\n",
              "      <th>Car</th>\n",
              "      <th>Landsize</th>\n",
              "      <th>BuildingArea</th>\n",
              "      <th>YearBuilt</th>\n",
              "      <th>CouncilArea</th>\n",
              "      <th>Lattitude</th>\n",
              "      <th>Longtitude</th>\n",
              "      <th>Regionname</th>\n",
              "      <th>Propertycount</th>\n",
              "    </tr>\n",
              "  </thead>\n",
              "  <tbody>\n",
              "    <tr>\n",
              "      <th>2453</th>\n",
              "      <td>Bulleen</td>\n",
              "      <td>3 Maringa St</td>\n",
              "      <td>4</td>\n",
              "      <td>h</td>\n",
              "      <td>NaN</td>\n",
              "      <td>SP</td>\n",
              "      <td>Ray</td>\n",
              "      <td>2016-07-11</td>\n",
              "      <td>11.8</td>\n",
              "      <td>3105</td>\n",
              "      <td>4.0</td>\n",
              "      <td>2.0</td>\n",
              "      <td>2.0</td>\n",
              "      <td>729.0</td>\n",
              "      <td>255.0</td>\n",
              "      <td>2106.0</td>\n",
              "      <td>Manningham City Council</td>\n",
              "      <td>-37.7637</td>\n",
              "      <td>145.0881</td>\n",
              "      <td>Eastern Metropolitan</td>\n",
              "      <td>4480.0</td>\n",
              "    </tr>\n",
              "  </tbody>\n",
              "</table>\n",
              "</div>"
            ],
            "text/plain": [
              "       Suburb       Address  ...            Regionname Propertycount\n",
              "2453  Bulleen  3 Maringa St  ...  Eastern Metropolitan        4480.0\n",
              "\n",
              "[1 rows x 21 columns]"
            ]
          },
          "metadata": {
            "tags": []
          },
          "execution_count": 13
        }
      ]
    },
    {
      "cell_type": "markdown",
      "metadata": {
        "id": "oSEuCezPyj-U",
        "colab_type": "text"
      },
      "source": [
        "There is only one row with odd year. It might have been mistyped - probably it's 2106 instead of 2016.\n",
        "\n",
        "Also, there is strange minimum in the column. There shouldn't be any offers of houses in Australia built before 1800."
      ]
    },
    {
      "cell_type": "code",
      "metadata": {
        "id": "wlfzIYxNyj-U",
        "colab_type": "code",
        "outputId": "e4c1231e-208c-41c7-f149-7cd4158e9f52",
        "colab": {
          "base_uri": "https://localhost:8080/",
          "height": 132
        }
      },
      "source": [
        "# getting rows with too soon year of built\n",
        "df[df['YearBuilt'] < 1800]"
      ],
      "execution_count": 14,
      "outputs": [
        {
          "output_type": "execute_result",
          "data": {
            "text/html": [
              "<div>\n",
              "<style scoped>\n",
              "    .dataframe tbody tr th:only-of-type {\n",
              "        vertical-align: middle;\n",
              "    }\n",
              "\n",
              "    .dataframe tbody tr th {\n",
              "        vertical-align: top;\n",
              "    }\n",
              "\n",
              "    .dataframe thead th {\n",
              "        text-align: right;\n",
              "    }\n",
              "</style>\n",
              "<table border=\"1\" class=\"dataframe\">\n",
              "  <thead>\n",
              "    <tr style=\"text-align: right;\">\n",
              "      <th></th>\n",
              "      <th>Suburb</th>\n",
              "      <th>Address</th>\n",
              "      <th>Rooms</th>\n",
              "      <th>Type</th>\n",
              "      <th>Price</th>\n",
              "      <th>Method</th>\n",
              "      <th>SellerG</th>\n",
              "      <th>Date</th>\n",
              "      <th>Distance</th>\n",
              "      <th>Postcode</th>\n",
              "      <th>Bedroom2</th>\n",
              "      <th>Bathroom</th>\n",
              "      <th>Car</th>\n",
              "      <th>Landsize</th>\n",
              "      <th>BuildingArea</th>\n",
              "      <th>YearBuilt</th>\n",
              "      <th>CouncilArea</th>\n",
              "      <th>Lattitude</th>\n",
              "      <th>Longtitude</th>\n",
              "      <th>Regionname</th>\n",
              "      <th>Propertycount</th>\n",
              "    </tr>\n",
              "  </thead>\n",
              "  <tbody>\n",
              "    <tr>\n",
              "      <th>16424</th>\n",
              "      <td>Mount Waverley</td>\n",
              "      <td>5 Armstrong St</td>\n",
              "      <td>3</td>\n",
              "      <td>h</td>\n",
              "      <td>1200000.0</td>\n",
              "      <td>VB</td>\n",
              "      <td>McGrath</td>\n",
              "      <td>2017-06-24</td>\n",
              "      <td>14.2</td>\n",
              "      <td>3149</td>\n",
              "      <td>3.0</td>\n",
              "      <td>1.0</td>\n",
              "      <td>4.0</td>\n",
              "      <td>807.0</td>\n",
              "      <td>117.0</td>\n",
              "      <td>1196.0</td>\n",
              "      <td>Monash City Council</td>\n",
              "      <td>-37.86788</td>\n",
              "      <td>145.12121</td>\n",
              "      <td>Eastern Metropolitan</td>\n",
              "      <td>13366.0</td>\n",
              "    </tr>\n",
              "  </tbody>\n",
              "</table>\n",
              "</div>"
            ],
            "text/plain": [
              "               Suburb         Address  ...            Regionname Propertycount\n",
              "16424  Mount Waverley  5 Armstrong St  ...  Eastern Metropolitan       13366.0\n",
              "\n",
              "[1 rows x 21 columns]"
            ]
          },
          "metadata": {
            "tags": []
          },
          "execution_count": 14
        }
      ]
    },
    {
      "cell_type": "markdown",
      "metadata": {
        "id": "J8Tabrbxyj-Y",
        "colab_type": "text"
      },
      "source": [
        "Again, it may have been mistyped. However I cannot be sure, so in both cases I am going to replace wrong values with NaNs."
      ]
    },
    {
      "cell_type": "code",
      "metadata": {
        "id": "l_w2WAtWyj-Z",
        "colab_type": "code",
        "colab": {}
      },
      "source": [
        "# replacing wrong values with NaNs\n",
        "df[df['YearBuilt'] < 1800] = np.nan\n",
        "df[df['YearBuilt'] > 2020] = np.nan"
      ],
      "execution_count": 0,
      "outputs": []
    },
    {
      "cell_type": "markdown",
      "metadata": {
        "id": "hrOzH-HTyj-e",
        "colab_type": "text"
      },
      "source": [
        "All the numeric columns have been cleansed. As said before, I am going to drop Propertycount, since it's meaning is hard to understand - it won't be useful while modelling."
      ]
    },
    {
      "cell_type": "code",
      "metadata": {
        "scrolled": true,
        "id": "fpGxjxLQyj-e",
        "colab_type": "code",
        "outputId": "b8a83f78-2592-4c46-98c9-21ed26f59204",
        "colab": {
          "base_uri": "https://localhost:8080/",
          "height": 322
        }
      },
      "source": [
        "# dropping redundant column\n",
        "df = df.drop(columns=['Propertycount'])\n",
        "df.head()"
      ],
      "execution_count": 16,
      "outputs": [
        {
          "output_type": "execute_result",
          "data": {
            "text/html": [
              "<div>\n",
              "<style scoped>\n",
              "    .dataframe tbody tr th:only-of-type {\n",
              "        vertical-align: middle;\n",
              "    }\n",
              "\n",
              "    .dataframe tbody tr th {\n",
              "        vertical-align: top;\n",
              "    }\n",
              "\n",
              "    .dataframe thead th {\n",
              "        text-align: right;\n",
              "    }\n",
              "</style>\n",
              "<table border=\"1\" class=\"dataframe\">\n",
              "  <thead>\n",
              "    <tr style=\"text-align: right;\">\n",
              "      <th></th>\n",
              "      <th>Suburb</th>\n",
              "      <th>Address</th>\n",
              "      <th>Rooms</th>\n",
              "      <th>Type</th>\n",
              "      <th>Price</th>\n",
              "      <th>Method</th>\n",
              "      <th>SellerG</th>\n",
              "      <th>Date</th>\n",
              "      <th>Distance</th>\n",
              "      <th>Postcode</th>\n",
              "      <th>Bedroom2</th>\n",
              "      <th>Bathroom</th>\n",
              "      <th>Car</th>\n",
              "      <th>Landsize</th>\n",
              "      <th>BuildingArea</th>\n",
              "      <th>YearBuilt</th>\n",
              "      <th>CouncilArea</th>\n",
              "      <th>Lattitude</th>\n",
              "      <th>Longtitude</th>\n",
              "      <th>Regionname</th>\n",
              "    </tr>\n",
              "  </thead>\n",
              "  <tbody>\n",
              "    <tr>\n",
              "      <th>0</th>\n",
              "      <td>Abbotsford</td>\n",
              "      <td>68 Studley St</td>\n",
              "      <td>2.0</td>\n",
              "      <td>h</td>\n",
              "      <td>NaN</td>\n",
              "      <td>SS</td>\n",
              "      <td>Jellis</td>\n",
              "      <td>2016-03-09</td>\n",
              "      <td>2.5</td>\n",
              "      <td>3067</td>\n",
              "      <td>2.0</td>\n",
              "      <td>1.0</td>\n",
              "      <td>1.0</td>\n",
              "      <td>126.0</td>\n",
              "      <td>NaN</td>\n",
              "      <td>NaN</td>\n",
              "      <td>Yarra City Council</td>\n",
              "      <td>-37.8014</td>\n",
              "      <td>144.9958</td>\n",
              "      <td>Northern Metropolitan</td>\n",
              "    </tr>\n",
              "    <tr>\n",
              "      <th>1</th>\n",
              "      <td>Abbotsford</td>\n",
              "      <td>85 Turner St</td>\n",
              "      <td>2.0</td>\n",
              "      <td>h</td>\n",
              "      <td>1480000.0</td>\n",
              "      <td>S</td>\n",
              "      <td>Biggin</td>\n",
              "      <td>2016-03-12</td>\n",
              "      <td>2.5</td>\n",
              "      <td>3067</td>\n",
              "      <td>2.0</td>\n",
              "      <td>1.0</td>\n",
              "      <td>1.0</td>\n",
              "      <td>202.0</td>\n",
              "      <td>NaN</td>\n",
              "      <td>NaN</td>\n",
              "      <td>Yarra City Council</td>\n",
              "      <td>-37.7996</td>\n",
              "      <td>144.9984</td>\n",
              "      <td>Northern Metropolitan</td>\n",
              "    </tr>\n",
              "    <tr>\n",
              "      <th>2</th>\n",
              "      <td>Abbotsford</td>\n",
              "      <td>25 Bloomburg St</td>\n",
              "      <td>2.0</td>\n",
              "      <td>h</td>\n",
              "      <td>1035000.0</td>\n",
              "      <td>S</td>\n",
              "      <td>Biggin</td>\n",
              "      <td>2016-04-02</td>\n",
              "      <td>2.5</td>\n",
              "      <td>3067</td>\n",
              "      <td>2.0</td>\n",
              "      <td>1.0</td>\n",
              "      <td>0.0</td>\n",
              "      <td>156.0</td>\n",
              "      <td>79.0</td>\n",
              "      <td>1900.0</td>\n",
              "      <td>Yarra City Council</td>\n",
              "      <td>-37.8079</td>\n",
              "      <td>144.9934</td>\n",
              "      <td>Northern Metropolitan</td>\n",
              "    </tr>\n",
              "    <tr>\n",
              "      <th>3</th>\n",
              "      <td>Abbotsford</td>\n",
              "      <td>18/659 Victoria St</td>\n",
              "      <td>3.0</td>\n",
              "      <td>u</td>\n",
              "      <td>NaN</td>\n",
              "      <td>VB</td>\n",
              "      <td>Rounds</td>\n",
              "      <td>2016-04-02</td>\n",
              "      <td>2.5</td>\n",
              "      <td>3067</td>\n",
              "      <td>3.0</td>\n",
              "      <td>2.0</td>\n",
              "      <td>1.0</td>\n",
              "      <td>0.0</td>\n",
              "      <td>NaN</td>\n",
              "      <td>NaN</td>\n",
              "      <td>Yarra City Council</td>\n",
              "      <td>-37.8114</td>\n",
              "      <td>145.0116</td>\n",
              "      <td>Northern Metropolitan</td>\n",
              "    </tr>\n",
              "    <tr>\n",
              "      <th>4</th>\n",
              "      <td>Abbotsford</td>\n",
              "      <td>5 Charles St</td>\n",
              "      <td>3.0</td>\n",
              "      <td>h</td>\n",
              "      <td>1465000.0</td>\n",
              "      <td>SP</td>\n",
              "      <td>Biggin</td>\n",
              "      <td>2017-04-03</td>\n",
              "      <td>2.5</td>\n",
              "      <td>3067</td>\n",
              "      <td>3.0</td>\n",
              "      <td>2.0</td>\n",
              "      <td>0.0</td>\n",
              "      <td>134.0</td>\n",
              "      <td>150.0</td>\n",
              "      <td>1900.0</td>\n",
              "      <td>Yarra City Council</td>\n",
              "      <td>-37.8093</td>\n",
              "      <td>144.9944</td>\n",
              "      <td>Northern Metropolitan</td>\n",
              "    </tr>\n",
              "  </tbody>\n",
              "</table>\n",
              "</div>"
            ],
            "text/plain": [
              "       Suburb             Address  ...  Longtitude             Regionname\n",
              "0  Abbotsford       68 Studley St  ...    144.9958  Northern Metropolitan\n",
              "1  Abbotsford        85 Turner St  ...    144.9984  Northern Metropolitan\n",
              "2  Abbotsford     25 Bloomburg St  ...    144.9934  Northern Metropolitan\n",
              "3  Abbotsford  18/659 Victoria St  ...    145.0116  Northern Metropolitan\n",
              "4  Abbotsford        5 Charles St  ...    144.9944  Northern Metropolitan\n",
              "\n",
              "[5 rows x 20 columns]"
            ]
          },
          "metadata": {
            "tags": []
          },
          "execution_count": 16
        }
      ]
    },
    {
      "cell_type": "code",
      "metadata": {
        "id": "6gg2klCdkr3T",
        "colab_type": "code",
        "colab": {
          "base_uri": "https://localhost:8080/",
          "height": 70
        },
        "outputId": "a854109a-1b55-474c-bcfd-0070d8c8c548"
      },
      "source": [
        "df.select_dtypes(exclude=['object', 'datetime']).columns[:-2]"
      ],
      "execution_count": 24,
      "outputs": [
        {
          "output_type": "execute_result",
          "data": {
            "text/plain": [
              "Index(['Rooms', 'Price', 'Distance', 'Bedroom2', 'Bathroom', 'Car', 'Landsize',\n",
              "       'BuildingArea', 'YearBuilt'],\n",
              "      dtype='object')"
            ]
          },
          "metadata": {
            "tags": []
          },
          "execution_count": 24
        }
      ]
    },
    {
      "cell_type": "code",
      "metadata": {
        "id": "gtcLzTLnyj-l",
        "colab_type": "code",
        "outputId": "a53feac6-5f5e-460c-9fbf-067627948791",
        "colab": {
          "base_uri": "https://localhost:8080/",
          "height": 950
        }
      },
      "source": [
        "# plotting histograms of some numerical variables\n",
        "fig, axes = plt.subplots(nrows=4, ncols=2, figsize=(15,15))\n",
        "axs = axes.flatten()\n",
        "\n",
        "# values from numeric columns\n",
        "cols = [df[col] for col in df.select_dtypes(exclude=['object', 'datetime']).columns[:-2]]\n",
        "# number of bins for each histogram\n",
        "bins = [i.nunique() for i in cols]\n",
        "\n",
        "for n in range(0, len(axs)):\n",
        "    axs[n].hist(cols[n], bins=bins[n])\n",
        "    axs[n].set_title('Histogram of {}'.format(cols[n].name))\n",
        "plt.show()"
      ],
      "execution_count": 25,
      "outputs": [
        {
          "output_type": "stream",
          "text": [
            "/usr/local/lib/python3.6/dist-packages/numpy/lib/histograms.py:839: RuntimeWarning: invalid value encountered in greater_equal\n",
            "  keep = (tmp_a >= first_edge)\n",
            "/usr/local/lib/python3.6/dist-packages/numpy/lib/histograms.py:840: RuntimeWarning: invalid value encountered in less_equal\n",
            "  keep &= (tmp_a <= last_edge)\n"
          ],
          "name": "stderr"
        },
        {
          "output_type": "display_data",
          "data": {
            "image/png": "[encoded data removed]",
            "text/plain": [
              "<Figure size 1080x1080 with 8 Axes>"
            ]
          },
          "metadata": {
            "tags": [],
            "needs_background": "light"
          }
        }
      ]
    },
    {
      "cell_type": "markdown",
      "metadata": {
        "id": "WamgZ6nbyj-o",
        "colab_type": "text"
      },
      "source": [
        "Histograms show that ranges are reasonable, however there are many outliers in the dataset, especially in BuildingArea and Landsize columns.\n",
        "\n",
        "At the end, I am checking the range of data to know what period of time the offers come from."
      ]
    },
    {
      "cell_type": "code",
      "metadata": {
        "id": "O0Ufq4jAyj-o",
        "colab_type": "code",
        "outputId": "b6bf8ad2-562b-430f-a266-e0f5584490ce",
        "colab": {
          "base_uri": "https://localhost:8080/",
          "height": 35
        }
      },
      "source": [
        "df['Date'].min(), df['Date'].max()"
      ],
      "execution_count": 26,
      "outputs": [
        {
          "output_type": "execute_result",
          "data": {
            "text/plain": [
              "(Timestamp('2016-01-28 00:00:00'), Timestamp('2018-10-03 00:00:00'))"
            ]
          },
          "metadata": {
            "tags": []
          },
          "execution_count": 26
        }
      ]
    },
    {
      "cell_type": "markdown",
      "metadata": {
        "id": "3IEOMxHNyj-r",
        "colab_type": "text"
      },
      "source": [
        "That's a surprise - the Kaggle page claims data is from January 2016, but in fact it describes the market after this month. This explains YearBuilt of 2017 and 2018. Luckily, this data was not dropped."
      ]
    },
    {
      "cell_type": "markdown",
      "metadata": {
        "id": "8mzjL0hZyj-s",
        "colab_type": "text"
      },
      "source": [
        "#### Emptiness\n",
        "Now I am looking for empty values in a dataset. "
      ]
    },
    {
      "cell_type": "code",
      "metadata": {
        "id": "jlzgyFX_yj-s",
        "colab_type": "code",
        "outputId": "549fff44-f50b-46e9-b912-071e360bdcef",
        "colab": {
          "base_uri": "https://localhost:8080/",
          "height": 390
        }
      },
      "source": [
        "# getting number of missing values\n",
        "df.isna().sum()"
      ],
      "execution_count": 27,
      "outputs": [
        {
          "output_type": "execute_result",
          "data": {
            "text/plain": [
              "Suburb              2\n",
              "Address             2\n",
              "Rooms               2\n",
              "Type                2\n",
              "Price            7611\n",
              "Method              2\n",
              "SellerG             2\n",
              "Date                2\n",
              "Distance            3\n",
              "Postcode            3\n",
              "Bedroom2         8236\n",
              "Bathroom         8274\n",
              "Car              8730\n",
              "Landsize        11812\n",
              "BuildingArea    21117\n",
              "YearBuilt       19308\n",
              "CouncilArea         5\n",
              "Lattitude        7978\n",
              "Longtitude       7978\n",
              "Regionname          5\n",
              "dtype: int64"
            ]
          },
          "metadata": {
            "tags": []
          },
          "execution_count": 27
        }
      ]
    },
    {
      "cell_type": "markdown",
      "metadata": {
        "id": "LZC0Hrabyj-x",
        "colab_type": "text"
      },
      "source": [
        "Every column include some missing values. I will proccess them later, but for now I have to drop all the rows with missing prices. This is the target variable, so nulls will not be useful while building a prediction model."
      ]
    },
    {
      "cell_type": "code",
      "metadata": {
        "id": "OpT5wlvxyj-x",
        "colab_type": "code",
        "colab": {}
      },
      "source": [
        "# drop missing prices\n",
        "df = df.dropna(subset=['Price'])"
      ],
      "execution_count": 0,
      "outputs": []
    },
    {
      "cell_type": "code",
      "metadata": {
        "scrolled": true,
        "id": "eA029CN8yj-0",
        "colab_type": "code",
        "outputId": "5a93caa4-87bf-4271-ad74-2049048fc494",
        "colab": {
          "base_uri": "https://localhost:8080/",
          "height": 390
        }
      },
      "source": [
        "# check changes of NaNs\n",
        "df.isna().sum()"
      ],
      "execution_count": 29,
      "outputs": [
        {
          "output_type": "execute_result",
          "data": {
            "text/plain": [
              "Suburb              0\n",
              "Address             0\n",
              "Rooms               0\n",
              "Type                0\n",
              "Price               0\n",
              "Method              0\n",
              "SellerG             0\n",
              "Date                0\n",
              "Distance            1\n",
              "Postcode            1\n",
              "Bedroom2         6457\n",
              "Bathroom         6481\n",
              "Car              6824\n",
              "Landsize         9265\n",
              "BuildingArea    16591\n",
              "YearBuilt       15163\n",
              "CouncilArea         3\n",
              "Lattitude        6254\n",
              "Longtitude       6254\n",
              "Regionname          3\n",
              "dtype: int64"
            ]
          },
          "metadata": {
            "tags": []
          },
          "execution_count": 29
        }
      ]
    },
    {
      "cell_type": "markdown",
      "metadata": {
        "id": "Q6-hU-7Cyj-2",
        "colab_type": "text"
      },
      "source": [
        "After removving unuseful rows, missing values in columns other than Price disappeared as well. Some of them still have many empty fields, but this problem will be solved during feature creation step."
      ]
    },
    {
      "cell_type": "code",
      "metadata": {
        "id": "rTcrRKJ0yj-3",
        "colab_type": "code",
        "outputId": "3de64d63-bfd2-42a4-e336-2c43e428540a",
        "colab": {
          "base_uri": "https://localhost:8080/",
          "height": 35
        }
      },
      "source": [
        "df.shape"
      ],
      "execution_count": 30,
      "outputs": [
        {
          "output_type": "execute_result",
          "data": {
            "text/plain": [
              "(27246, 20)"
            ]
          },
          "metadata": {
            "tags": []
          },
          "execution_count": 30
        }
      ]
    },
    {
      "cell_type": "markdown",
      "metadata": {
        "id": "oJ2jppHHyj-6",
        "colab_type": "text"
      },
      "source": [
        "#### Uniqueness\n",
        "I am making sure there are no duplicated rows."
      ]
    },
    {
      "cell_type": "code",
      "metadata": {
        "id": "0IPrwa2Uyj-6",
        "colab_type": "code",
        "outputId": "b24e9e81-e47b-420a-c2c3-d5b3c41dadae",
        "colab": {
          "base_uri": "https://localhost:8080/",
          "height": 35
        }
      },
      "source": [
        "df.duplicated().sum()"
      ],
      "execution_count": 31,
      "outputs": [
        {
          "output_type": "execute_result",
          "data": {
            "text/plain": [
              "0"
            ]
          },
          "metadata": {
            "tags": []
          },
          "execution_count": 31
        }
      ]
    },
    {
      "cell_type": "markdown",
      "metadata": {
        "id": "I_YGJ_8cyj-9",
        "colab_type": "text"
      },
      "source": [
        "This is a very satisfying result - there are no duplicated rows."
      ]
    },
    {
      "cell_type": "markdown",
      "metadata": {
        "id": "yEbuI7lMyj-9",
        "colab_type": "text"
      },
      "source": [
        "#### Set memberships\n",
        "What I am checking here is whether only allowed values are chosen for categorical fields. I am starting that by checking unique values for non-numeric columns."
      ]
    },
    {
      "cell_type": "code",
      "metadata": {
        "scrolled": true,
        "id": "e40j560Qyj--",
        "colab_type": "code",
        "outputId": "b5a30bd2-8733-4ba4-db61-1f038b4934e0",
        "colab": {
          "base_uri": "https://localhost:8080/",
          "height": 295
        }
      },
      "source": [
        "df_strings = df.select_dtypes(include=['object'])\n",
        "\n",
        "df_no_address = df_strings.drop(columns=['Address'])\n",
        "locations = [i for i in range(df_no_address.shape[1])]\n",
        "heights = [df_no_address[i].nunique() for i in df_no_address.columns]\n",
        "labels = df_no_address.columns\n",
        "\n",
        "plt.barh(locations, heights, tick_label=labels)\n",
        "plt.title('Number of unique rows in different columns')\n",
        "plt.xlabel('Number of unique values')\n",
        "for i in locations:\n",
        "    plt.annotate(heights[i], (heights[i], i-0.2))\n",
        "plt.show()"
      ],
      "execution_count": 32,
      "outputs": [
        {
          "output_type": "display_data",
          "data": {
            "image/png": "[encoded data removed]",
            "text/plain": [
              "<Figure size 432x288 with 1 Axes>"
            ]
          },
          "metadata": {
            "tags": [],
            "needs_background": "light"
          }
        }
      ]
    },
    {
      "cell_type": "markdown",
      "metadata": {
        "id": "c_JGpJSnyj_E",
        "colab_type": "text"
      },
      "source": [
        "Address column was excluded from the chart due to huge number of unique values - that would distort the plot. Now, let's take a look into the respective variables."
      ]
    },
    {
      "cell_type": "code",
      "metadata": {
        "id": "yyrtOJGryj_F",
        "colab_type": "code",
        "outputId": "a58b7d14-c1ae-4698-c495-4300aee33ceb",
        "colab": {
          "base_uri": "https://localhost:8080/",
          "height": 88
        }
      },
      "source": [
        "df['Regionname'].unique()"
      ],
      "execution_count": 0,
      "outputs": [
        {
          "output_type": "execute_result",
          "data": {
            "text/plain": [
              "array(['Northern Metropolitan', 'Western Metropolitan',\n",
              "       'Southern Metropolitan', 'Eastern Metropolitan',\n",
              "       'South-Eastern Metropolitan', 'Eastern Victoria',\n",
              "       'Northern Victoria', 'Western Victoria', nan], dtype=object)"
            ]
          },
          "metadata": {
            "tags": []
          },
          "execution_count": 60
        }
      ]
    },
    {
      "cell_type": "markdown",
      "metadata": {
        "id": "xws-EV0Cyj_H",
        "colab_type": "text"
      },
      "source": [
        "All of the regions seem to be correctly formatted. This column is well prepared."
      ]
    },
    {
      "cell_type": "code",
      "metadata": {
        "scrolled": true,
        "id": "5IVFzA85yj_I",
        "colab_type": "code",
        "outputId": "ac91503e-6f75-4fbc-ff7d-78a3df11fac6",
        "colab": {
          "base_uri": "https://localhost:8080/",
          "height": 319
        }
      },
      "source": [
        "df['CouncilArea'].unique()"
      ],
      "execution_count": 0,
      "outputs": [
        {
          "output_type": "execute_result",
          "data": {
            "text/plain": [
              "array(['Yarra City Council', 'Moonee Valley City Council',\n",
              "       'Port Phillip City Council', 'Darebin City Council',\n",
              "       'Hobsons Bay City Council', 'Stonnington City Council',\n",
              "       'Boroondara City Council', 'Monash City Council',\n",
              "       'Glen Eira City Council', 'Whitehorse City Council',\n",
              "       'Maribyrnong City Council', 'Bayside City Council',\n",
              "       'Moreland City Council', 'Manningham City Council',\n",
              "       'Melbourne City Council', 'Banyule City Council',\n",
              "       'Brimbank City Council', 'Kingston City Council',\n",
              "       'Hume City Council', 'Knox City Council', 'Maroondah City Council',\n",
              "       'Casey City Council', 'Melton City Council',\n",
              "       'Greater Dandenong City Council', 'Nillumbik Shire Council',\n",
              "       'Whittlesea City Council', 'Frankston City Council',\n",
              "       'Macedon Ranges Shire Council', 'Yarra Ranges Shire Council',\n",
              "       'Wyndham City Council', 'Cardinia Shire Council',\n",
              "       'Moorabool Shire Council', nan, 'Mitchell Shire Council'],\n",
              "      dtype=object)"
            ]
          },
          "metadata": {
            "tags": []
          },
          "execution_count": 61
        }
      ]
    },
    {
      "cell_type": "markdown",
      "metadata": {
        "id": "UIhSriIjyj_K",
        "colab_type": "text"
      },
      "source": [
        "Council areas also look fine. "
      ]
    },
    {
      "cell_type": "code",
      "metadata": {
        "scrolled": true,
        "id": "h-e6NrH0yj_K",
        "colab_type": "code",
        "outputId": "58679e27-bbd4-4572-924b-f5cfadb33996",
        "colab": {
          "base_uri": "https://localhost:8080/",
          "height": 497
        }
      },
      "source": [
        "df['Postcode'].unique()"
      ],
      "execution_count": 0,
      "outputs": [
        {
          "output_type": "execute_result",
          "data": {
            "text/plain": [
              "array([3067.0, 3042.0, 3206.0, 3078.0, 3018.0, 3025.0, 3143.0, 3032.0,\n",
              "       3147.0, 3034.0, 3183.0, 3103.0, 3104.0, 3204.0, 3165.0, 3128.0,\n",
              "       3019.0, 3186.0, 3187.0, 3056.0, 3055.0, 3105.0, 3125.0, 3124.0,\n",
              "       3126.0, 3054.0, 3163.0, 3162.0, 3161.0, 3148.0, 3068.0, 3058.0,\n",
              "       3066.0, 3108.0, 3084.0, 3185.0, 3184.0, 3040.0, 3041.0, 3065.0,\n",
              "       3031.0, 3011.0, 3146.0, 3046.0, 3043.0, 3188.0, 3122.0, 3081.0,\n",
              "       3166.0, 3079.0, 3021.0, 3033.0, 3101.0, 3102.0, 3144.0, 3012.0,\n",
              "       3145.0, 3000.0, 3127.0, 3039.0, 3189.0, 3015.0, 3051.0, 3070.0,\n",
              "       3167.0, 3052.0, 3044.0, 3207.0, 3181.0, 3072.0, 3073.0, 3121.0,\n",
              "       3205.0, 3141.0, 3006.0, 3182.0, 3020.0, 3107.0, 3071.0, 3142.0,\n",
              "       3087.0, 3003.0, 3016.0, 3085.0, 3013.0, 3057.0, 3061.0, 3053.0,\n",
              "       3002.0, 3060.0, 3123.0, 3047.0, 3083.0, 3008.0, 3022.0, 3049.0,\n",
              "       3153.0, 3193.0, 3806.0, 3130.0, 3155.0, 3088.0, 3023.0, 3151.0,\n",
              "       3192.0, 3978.0, 3064.0, 3977.0, 3136.0, 3175.0, 3089.0, 3172.0,\n",
              "       3109.0, 3111.0, 3754.0, 3196.0, 3095.0, 3076.0, 3177.0, 3156.0,\n",
              "       3131.0, 3199.0, 3200.0, 3437.0, 3150.0, 3059.0, 3803.0, 3777.0,\n",
              "       3190.0, 3037.0, 3029.0, 3038.0, 3173.0, 3075.0, 3093.0, 3975.0,\n",
              "       3337.0, 3338.0, 3194.0, 3082.0, 3132.0, 3094.0, 3195.0, 3149.0,\n",
              "       3805.0, 3174.0, 3030.0, 3134.0, 3135.0, 3335.0, 3178.0, 3191.0,\n",
              "       3028.0, 3198.0, 3752.0, 3171.0, 3429.0, 3160.0, 3154.0, 3074.0,\n",
              "       3133.0, 3152.0, 3027.0, 3750.0, 3024.0, 3197.0, 3168.0, 3169.0,\n",
              "       3138.0, 3170.0, 3810.0, 3106.0, 3113.0, 3096.0, 3201.0, 3202.0,\n",
              "       3910.0, 3808.0, 3116.0, 3048.0, 3036.0, 3137.0, 3796.0, 3431.0,\n",
              "       3179.0, 3795.0, 3427.0, 3976.0, 3180.0, 3158.0, 3340.0, 3765.0,\n",
              "       3099.0, 3115.0, 3802.0, 3809.0, 3807.0, 3775.0, 3782.0, 3090.0,\n",
              "       3757.0, 3438.0, 3756.0, 3140.0, 3793.0, 3428.0, 3770.0, nan,\n",
              "       3786.0, 3139.0], dtype=object)"
            ]
          },
          "metadata": {
            "tags": []
          },
          "execution_count": 62
        }
      ]
    },
    {
      "cell_type": "markdown",
      "metadata": {
        "id": "s2ovBGoDyj_Q",
        "colab_type": "text"
      },
      "source": [
        "One glance is enough to see that all postcodes consist of four digits - here formatting also doesn't need to be fixed.\n",
        "\n",
        "Next column, SellerG, is more demanding because of 349 unique inputs. These are surnames, so it's also difficult to estimate if they are correct or not. I can however check if it is well formatted in matters of upper and lowercase - if written differently, it is counted as different sellers only due to a little mistake.\n",
        "\n",
        "I am doing so by converting all sellers into uppercase strings and counting unique values then. If it differs from number of unique values in column, some errors occur."
      ]
    },
    {
      "cell_type": "code",
      "metadata": {
        "id": "pbGqNP1Iyj_Q",
        "colab_type": "code",
        "outputId": "09ec5c6b-1d1a-473c-e1a1-02777c8c9325",
        "colab": {
          "base_uri": "https://localhost:8080/",
          "height": 35
        }
      },
      "source": [
        "# count number of unique values of uppercase sellers\n",
        "len({i.upper() for i in df['SellerG']})"
      ],
      "execution_count": 0,
      "outputs": [
        {
          "output_type": "execute_result",
          "data": {
            "text/plain": [
              "345"
            ]
          },
          "metadata": {
            "tags": []
          },
          "execution_count": 66
        }
      ]
    },
    {
      "cell_type": "markdown",
      "metadata": {
        "id": "4Xfauzgoyj_T",
        "colab_type": "text"
      },
      "source": [
        "Four values are sometimes differently formatted. To correct that, I am transforming column's inputs into uppercase strings."
      ]
    },
    {
      "cell_type": "code",
      "metadata": {
        "id": "5mu4WoD4yj_V",
        "colab_type": "code",
        "outputId": "bfda9926-d573-4c4f-e136-ee3c06cddee6",
        "colab": {
          "base_uri": "https://localhost:8080/",
          "height": 35
        }
      },
      "source": [
        "# transforming sellers' names to uppercase\n",
        "df['SellerG'] = df['SellerG'].str.upper()\n",
        "\n",
        "df['SellerG'].nunique()"
      ],
      "execution_count": 0,
      "outputs": [
        {
          "output_type": "execute_result",
          "data": {
            "text/plain": [
              "345"
            ]
          },
          "metadata": {
            "tags": []
          },
          "execution_count": 67
        }
      ]
    },
    {
      "cell_type": "markdown",
      "metadata": {
        "id": "cnW2XlIbyj_Z",
        "colab_type": "text"
      },
      "source": [
        "After fixing that, the column shouldn't need any cleaning."
      ]
    },
    {
      "cell_type": "code",
      "metadata": {
        "id": "HnR6GpaByj_a",
        "colab_type": "code",
        "outputId": "b3e35800-8075-4ede-a03d-2f7537cdb309",
        "colab": {
          "base_uri": "https://localhost:8080/",
          "height": 35
        }
      },
      "source": [
        "df['Method'].unique()"
      ],
      "execution_count": 0,
      "outputs": [
        {
          "output_type": "execute_result",
          "data": {
            "text/plain": [
              "array(['S', 'SP', 'PI', 'VB', 'SA'], dtype=object)"
            ]
          },
          "metadata": {
            "tags": []
          },
          "execution_count": 68
        }
      ]
    },
    {
      "cell_type": "markdown",
      "metadata": {
        "id": "U_AX58Lyyj_d",
        "colab_type": "text"
      },
      "source": [
        "There are five different methods - because of lack of precise data description, I am not able to estimate if these values are enough."
      ]
    },
    {
      "cell_type": "code",
      "metadata": {
        "id": "ZV7Y97pcyj_d",
        "colab_type": "code",
        "outputId": "eff2afbb-4626-4e48-b4cd-4b7aa649ed92",
        "colab": {
          "base_uri": "https://localhost:8080/",
          "height": 35
        }
      },
      "source": [
        "df['Type'].unique()"
      ],
      "execution_count": 0,
      "outputs": [
        {
          "output_type": "execute_result",
          "data": {
            "text/plain": [
              "array(['h', 't', 'u'], dtype=object)"
            ]
          },
          "metadata": {
            "tags": []
          },
          "execution_count": 69
        }
      ]
    },
    {
      "cell_type": "markdown",
      "metadata": {
        "id": "30tZ9rrRyj_h",
        "colab_type": "text"
      },
      "source": [
        "Three types, as expected - house, townhouse, unit."
      ]
    },
    {
      "cell_type": "code",
      "metadata": {
        "scrolled": true,
        "id": "8ueOT2Jvyj_i",
        "colab_type": "code",
        "outputId": "6608c4af-4792-4483-8928-7fcdf45eae4a",
        "colab": {
          "base_uri": "https://localhost:8080/",
          "height": 1000
        }
      },
      "source": [
        "df['Suburb'].unique()"
      ],
      "execution_count": 0,
      "outputs": [
        {
          "output_type": "execute_result",
          "data": {
            "text/plain": [
              "array(['Abbotsford', 'Airport West', 'Albert Park', 'Alphington',\n",
              "       'Altona', 'Altona North', 'Armadale', 'Ascot Vale', 'Ashburton',\n",
              "       'Ashwood', 'Avondale Heights', 'Balaclava', 'Balwyn',\n",
              "       'Balwyn North', 'Bentleigh', 'Bentleigh East', 'Box Hill',\n",
              "       'Braybrook', 'Brighton', 'Brighton East', 'Brunswick',\n",
              "       'Brunswick West', 'Bulleen', 'Burwood', 'Camberwell', 'Canterbury',\n",
              "       'Carlton North', 'Carnegie', 'Caulfield', 'Caulfield North',\n",
              "       'Caulfield South', 'Chadstone', 'Clifton Hill', 'Coburg',\n",
              "       'Coburg North', 'Collingwood', 'Doncaster', 'Eaglemont',\n",
              "       'Elsternwick', 'Elwood', 'Essendon', 'Essendon North', 'Fairfield',\n",
              "       'Fitzroy', 'Fitzroy North', 'Flemington', 'Footscray', 'Glen Iris',\n",
              "       'Glenroy', 'Gowanbrae', 'Hadfield', 'Hampton', 'Hampton East',\n",
              "       'Hawthorn', 'Heidelberg Heights', 'Heidelberg West', 'Hughesdale',\n",
              "       'Ivanhoe', 'Kealba', 'Keilor East', 'Kensington', 'Kew',\n",
              "       'Kew East', 'Kooyong', 'Maidstone', 'Malvern', 'Malvern East',\n",
              "       'Maribyrnong', 'Melbourne', 'Middle Park', 'Mont Albert',\n",
              "       'Moonee Ponds', 'Moorabbin', 'Newport', 'Niddrie',\n",
              "       'North Melbourne', 'Northcote', 'Oak Park', 'Oakleigh South',\n",
              "       'Parkville', 'Pascoe Vale', 'Port Melbourne', 'Prahran', 'Preston',\n",
              "       'Reservoir', 'Richmond', 'Rosanna', 'Seddon', 'South Melbourne',\n",
              "       'South Yarra', 'Southbank', 'Spotswood', 'St Kilda', 'Strathmore',\n",
              "       'Sunshine', 'Sunshine North', 'Sunshine West', 'Surrey Hills',\n",
              "       'Templestowe Lower', 'Thornbury', 'Toorak', 'Viewbank', 'Watsonia',\n",
              "       'West Melbourne', 'Williamstown', 'Williamstown North', 'Windsor',\n",
              "       'Yallambie', 'Yarraville', 'Aberfeldie', 'Bellfield',\n",
              "       'Brunswick East', 'Burnley', 'Campbellfield', 'Carlton',\n",
              "       'East Melbourne', 'Essendon West', 'Fawkner', 'Hawthorn East',\n",
              "       'Heidelberg', 'Ivanhoe East', 'Jacana', 'Kingsbury', 'Kingsville',\n",
              "       'Murrumbeena', 'Ormond', 'West Footscray', 'Albion', 'Brooklyn',\n",
              "       'Glen Huntly', 'Oakleigh', 'Ripponlea', 'Cremorne', 'Docklands',\n",
              "       'South Kingsville', 'Strathmore Heights', 'Travancore',\n",
              "       'Caulfield East', 'Seaholme', 'Keilor Park', 'Gardenvale',\n",
              "       'Princes Hill', 'Ardeer', 'Attwood', 'Bayswater',\n",
              "       'Bayswater North', 'Beaumaris', 'Berwick', 'Blackburn',\n",
              "       'Blackburn South', 'Boronia', 'Briar Hill', 'Broadmeadows',\n",
              "       'Bundoora', 'Burnside Heights', 'Burwood East', 'Cairnlea',\n",
              "       'Caroline Springs', 'Cheltenham', 'Clyde North', 'Craigieburn',\n",
              "       'Cranbourne', 'Croydon', 'Croydon North', 'Dandenong',\n",
              "       'Dandenong North', 'Diamond Creek', 'Dingley Village',\n",
              "       'Doncaster East', 'Donvale', 'Doreen', 'Edithvale', 'Eltham',\n",
              "       'Eltham North', 'Epping', 'Eumemmerring', 'Ferntree Gully',\n",
              "       'Forest Hill', 'Frankston', 'Frankston North', 'Frankston South',\n",
              "       'Gisborne', 'Gladstone Park', 'Glen Waverley', 'Greensborough',\n",
              "       'Greenvale', 'Hallam', 'Healesville', 'Highett', 'Hillside',\n",
              "       'Hoppers Crossing', 'Huntingdale', 'Keilor Downs', 'Keilor Lodge',\n",
              "       'Keysborough', 'Kings Park', 'Lalor', 'Lower Plenty', 'Lynbrook',\n",
              "       'MacLeod', 'Melton', 'Melton South', 'Mentone', 'Mernda',\n",
              "       'Mill Park', 'Mitcham', 'Montmorency', 'Mordialloc',\n",
              "       'Mount Waverley', 'Narre Warren', 'Noble Park', 'Nunawading',\n",
              "       'Oakleigh East', 'Parkdale', 'Point Cook', 'Ringwood',\n",
              "       'Ringwood East', 'Rockbank', 'Rowville', 'Roxburgh Park',\n",
              "       'Sandringham', 'Seabrook', 'Seaford', 'Skye', 'South Morang',\n",
              "       'Springvale', 'St Albans', 'St Helena', 'Sunbury', 'Sydenham',\n",
              "       'Tarneit', 'Taylors Hill', 'Taylors Lakes', 'Tecoma', 'The Basin',\n",
              "       'Thomastown', 'Truganina', 'Tullamarine', 'Vermont', 'Wantirna',\n",
              "       'Wantirna South', 'Werribee', 'Werribee South', 'Westmeadows',\n",
              "       'Williams Landing', 'Wollert', 'Wyndham Vale', 'Altona Meadows',\n",
              "       'Aspendale', 'Black Rock', 'Blackburn North', 'Bonbeach', 'Carrum',\n",
              "       'Chelsea', 'Clayton', 'Clayton South', 'Dallas', 'Delahey',\n",
              "       'Doveton', 'Heathmont', 'McKinnon', 'Melton West', 'Mooroolbark',\n",
              "       'Mulgrave', 'Pakenham', 'Ringwood North', 'Templestowe',\n",
              "       'Vermont South', 'Warrandyte', 'Watsonia North', 'Wattle Glen',\n",
              "       'Wheelers Hill', 'Aspendale Gardens', 'Carrum Downs',\n",
              "       'Cranbourne East', 'Deer Park', 'Heatherton', 'Langwarrin',\n",
              "       'Notting Hill', 'Albanvale', 'Beaconsfield Upper',\n",
              "       'Chelsea Heights', 'Chirnside Park', 'Coolaroo', 'Keilor',\n",
              "       'Kilsyth', 'Meadow Heights', 'Mount Evelyn', 'North Warrandyte',\n",
              "       'Riddells Creek', 'Sandhurst', 'Scoresby', 'Silvan',\n",
              "       'Croydon Hills', 'Croydon South', 'Derrimut', 'Diggers Rest',\n",
              "       'Hampton Park', 'Knoxfield', 'Upwey', 'Bacchus Marsh',\n",
              "       'Cranbourne North', 'Montrose', 'Bullengarook', 'Clarinda',\n",
              "       'Deepdene', 'Hurstbridge', 'Kurunjang', 'Wonga Park',\n",
              "       'Endeavour Hills', 'Mickleham', 'Officer', 'Waterways',\n",
              "       'Beaconsfield', 'Springvale South', 'Yarra Glen', 'Brookfield',\n",
              "       'Emerald', 'Plenty', 'Whittlesea', 'Burnside', 'New Gisborne',\n",
              "       'Patterson Lakes', 'Wallan', 'Laverton', 'Lilydale', 'Plumpton',\n",
              "       'croydon', 'Monbulk', 'Warranwood', 'Wildwood', 'Gisborne South',\n",
              "       'Research', 'viewbank', 'Botanic Ridge', 'Bulla', 'Coldstream',\n",
              "       'Cranbourne West', 'Darley', 'Eynesbury', 'Fawkner Lot',\n",
              "       'Ferny Creek', 'Wandin North', 'Lysterfield', 'Kalkallo'],\n",
              "      dtype=object)"
            ]
          },
          "metadata": {
            "tags": []
          },
          "execution_count": 70
        }
      ]
    },
    {
      "cell_type": "markdown",
      "metadata": {
        "id": "vGB7j0jjyj_n",
        "colab_type": "text"
      },
      "source": [
        "Suburbs again are hard to check. Just looking at the data, I can't notice any specific problems."
      ]
    },
    {
      "cell_type": "markdown",
      "metadata": {
        "id": "EcwO0uLNyj_n",
        "colab_type": "text"
      },
      "source": [
        "#### Cross-field validation\n",
        "Some fields impact validity of others. I am going to investigate that.\n",
        "\n",
        "At the very beginning I noticed odd numbers of rooms, bedrooms and bathrooms. Zeros were erased from dataframe, but still it is a good idea to check whether number of bathrooms in the house is not bigger than rooms, etc."
      ]
    },
    {
      "cell_type": "code",
      "metadata": {
        "id": "-BzX9wYFyj_o",
        "colab_type": "code",
        "outputId": "8b3b4627-1df2-414f-f6aa-c4e39b7e9b78",
        "colab": {
          "base_uri": "https://localhost:8080/",
          "height": 35
        }
      },
      "source": [
        "len(df.query(\"Bedroom2 > Rooms\"))"
      ],
      "execution_count": 0,
      "outputs": [
        {
          "output_type": "execute_result",
          "data": {
            "text/plain": [
              "221"
            ]
          },
          "metadata": {
            "tags": []
          },
          "execution_count": 71
        }
      ]
    },
    {
      "cell_type": "code",
      "metadata": {
        "id": "grjQyxO2yj_s",
        "colab_type": "code",
        "outputId": "3b3448a2-531a-45c3-989c-e94826034b27",
        "colab": {
          "base_uri": "https://localhost:8080/",
          "height": 35
        }
      },
      "source": [
        "len(df.query(\"Bathroom > Rooms\"))"
      ],
      "execution_count": 0,
      "outputs": [
        {
          "output_type": "execute_result",
          "data": {
            "text/plain": [
              "36"
            ]
          },
          "metadata": {
            "tags": []
          },
          "execution_count": 72
        }
      ]
    },
    {
      "cell_type": "markdown",
      "metadata": {
        "id": "3dPsHHa_yj_z",
        "colab_type": "text"
      },
      "source": [
        "The dataset contains over 20 thousands of offers, so these are just a tiny percentage of all rows. I can drop them, because they are not truthful."
      ]
    },
    {
      "cell_type": "code",
      "metadata": {
        "id": "Wo6X3rA9yj_z",
        "colab_type": "code",
        "colab": {}
      },
      "source": [
        "# deleting misleading rows\n",
        "df = df.drop(df.query(\"Bathroom > Rooms\").index)\n",
        "df = df.drop(df.query(\"Bedroom2 > Rooms\").index)"
      ],
      "execution_count": 0,
      "outputs": []
    },
    {
      "cell_type": "markdown",
      "metadata": {
        "id": "9TYXeksWyj_3",
        "colab_type": "text"
      },
      "source": [
        "What are new dataframe dimensions?"
      ]
    },
    {
      "cell_type": "code",
      "metadata": {
        "id": "hMA6dlumyj_3",
        "colab_type": "code",
        "outputId": "82b7a0a5-58d6-4e9c-87ab-a496f2e127a3",
        "colab": {
          "base_uri": "https://localhost:8080/",
          "height": 35
        }
      },
      "source": [
        "df.shape"
      ],
      "execution_count": 0,
      "outputs": [
        {
          "output_type": "execute_result",
          "data": {
            "text/plain": [
              "(27001, 20)"
            ]
          },
          "metadata": {
            "tags": []
          },
          "execution_count": 74
        }
      ]
    },
    {
      "cell_type": "code",
      "metadata": {
        "id": "_tnTlgJ2EnO1",
        "colab_type": "code",
        "outputId": "446f76bf-9068-4f07-e56e-5e8bb01d2930",
        "colab": {
          "base_uri": "https://localhost:8080/",
          "height": 339
        }
      },
      "source": [
        "df.head()"
      ],
      "execution_count": 0,
      "outputs": [
        {
          "output_type": "execute_result",
          "data": {
            "text/html": [
              "<div>\n",
              "<style scoped>\n",
              "    .dataframe tbody tr th:only-of-type {\n",
              "        vertical-align: middle;\n",
              "    }\n",
              "\n",
              "    .dataframe tbody tr th {\n",
              "        vertical-align: top;\n",
              "    }\n",
              "\n",
              "    .dataframe thead th {\n",
              "        text-align: right;\n",
              "    }\n",
              "</style>\n",
              "<table border=\"1\" class=\"dataframe\">\n",
              "  <thead>\n",
              "    <tr style=\"text-align: right;\">\n",
              "      <th></th>\n",
              "      <th>Suburb</th>\n",
              "      <th>Address</th>\n",
              "      <th>Rooms</th>\n",
              "      <th>Type</th>\n",
              "      <th>Price</th>\n",
              "      <th>Method</th>\n",
              "      <th>SellerG</th>\n",
              "      <th>Date</th>\n",
              "      <th>Distance</th>\n",
              "      <th>Postcode</th>\n",
              "      <th>Bedroom2</th>\n",
              "      <th>Bathroom</th>\n",
              "      <th>Car</th>\n",
              "      <th>Landsize</th>\n",
              "      <th>BuildingArea</th>\n",
              "      <th>YearBuilt</th>\n",
              "      <th>CouncilArea</th>\n",
              "      <th>Lattitude</th>\n",
              "      <th>Longtitude</th>\n",
              "      <th>Regionname</th>\n",
              "    </tr>\n",
              "  </thead>\n",
              "  <tbody>\n",
              "    <tr>\n",
              "      <th>1</th>\n",
              "      <td>Abbotsford</td>\n",
              "      <td>85 Turner St</td>\n",
              "      <td>2.0</td>\n",
              "      <td>h</td>\n",
              "      <td>1480000.0</td>\n",
              "      <td>S</td>\n",
              "      <td>BIGGIN</td>\n",
              "      <td>2016-03-12</td>\n",
              "      <td>2.5</td>\n",
              "      <td>3067</td>\n",
              "      <td>2.0</td>\n",
              "      <td>1.0</td>\n",
              "      <td>1.0</td>\n",
              "      <td>202.0</td>\n",
              "      <td>NaN</td>\n",
              "      <td>NaN</td>\n",
              "      <td>Yarra City Council</td>\n",
              "      <td>-37.7996</td>\n",
              "      <td>144.9984</td>\n",
              "      <td>Northern Metropolitan</td>\n",
              "    </tr>\n",
              "    <tr>\n",
              "      <th>2</th>\n",
              "      <td>Abbotsford</td>\n",
              "      <td>25 Bloomburg St</td>\n",
              "      <td>2.0</td>\n",
              "      <td>h</td>\n",
              "      <td>1035000.0</td>\n",
              "      <td>S</td>\n",
              "      <td>BIGGIN</td>\n",
              "      <td>2016-04-02</td>\n",
              "      <td>2.5</td>\n",
              "      <td>3067</td>\n",
              "      <td>2.0</td>\n",
              "      <td>1.0</td>\n",
              "      <td>0.0</td>\n",
              "      <td>156.0</td>\n",
              "      <td>79.0</td>\n",
              "      <td>1900.0</td>\n",
              "      <td>Yarra City Council</td>\n",
              "      <td>-37.8079</td>\n",
              "      <td>144.9934</td>\n",
              "      <td>Northern Metropolitan</td>\n",
              "    </tr>\n",
              "    <tr>\n",
              "      <th>4</th>\n",
              "      <td>Abbotsford</td>\n",
              "      <td>5 Charles St</td>\n",
              "      <td>3.0</td>\n",
              "      <td>h</td>\n",
              "      <td>1465000.0</td>\n",
              "      <td>SP</td>\n",
              "      <td>BIGGIN</td>\n",
              "      <td>2017-04-03</td>\n",
              "      <td>2.5</td>\n",
              "      <td>3067</td>\n",
              "      <td>3.0</td>\n",
              "      <td>2.0</td>\n",
              "      <td>0.0</td>\n",
              "      <td>134.0</td>\n",
              "      <td>150.0</td>\n",
              "      <td>1900.0</td>\n",
              "      <td>Yarra City Council</td>\n",
              "      <td>-37.8093</td>\n",
              "      <td>144.9944</td>\n",
              "      <td>Northern Metropolitan</td>\n",
              "    </tr>\n",
              "    <tr>\n",
              "      <th>5</th>\n",
              "      <td>Abbotsford</td>\n",
              "      <td>40 Federation La</td>\n",
              "      <td>3.0</td>\n",
              "      <td>h</td>\n",
              "      <td>850000.0</td>\n",
              "      <td>PI</td>\n",
              "      <td>BIGGIN</td>\n",
              "      <td>2017-04-03</td>\n",
              "      <td>2.5</td>\n",
              "      <td>3067</td>\n",
              "      <td>3.0</td>\n",
              "      <td>2.0</td>\n",
              "      <td>1.0</td>\n",
              "      <td>94.0</td>\n",
              "      <td>NaN</td>\n",
              "      <td>NaN</td>\n",
              "      <td>Yarra City Council</td>\n",
              "      <td>-37.7969</td>\n",
              "      <td>144.9969</td>\n",
              "      <td>Northern Metropolitan</td>\n",
              "    </tr>\n",
              "    <tr>\n",
              "      <th>6</th>\n",
              "      <td>Abbotsford</td>\n",
              "      <td>55a Park St</td>\n",
              "      <td>4.0</td>\n",
              "      <td>h</td>\n",
              "      <td>1600000.0</td>\n",
              "      <td>VB</td>\n",
              "      <td>NELSON</td>\n",
              "      <td>2016-04-06</td>\n",
              "      <td>2.5</td>\n",
              "      <td>3067</td>\n",
              "      <td>3.0</td>\n",
              "      <td>1.0</td>\n",
              "      <td>2.0</td>\n",
              "      <td>120.0</td>\n",
              "      <td>142.0</td>\n",
              "      <td>2014.0</td>\n",
              "      <td>Yarra City Council</td>\n",
              "      <td>-37.8072</td>\n",
              "      <td>144.9941</td>\n",
              "      <td>Northern Metropolitan</td>\n",
              "    </tr>\n",
              "  </tbody>\n",
              "</table>\n",
              "</div>"
            ],
            "text/plain": [
              "       Suburb           Address  ...  Longtitude             Regionname\n",
              "1  Abbotsford      85 Turner St  ...    144.9984  Northern Metropolitan\n",
              "2  Abbotsford   25 Bloomburg St  ...    144.9934  Northern Metropolitan\n",
              "4  Abbotsford      5 Charles St  ...    144.9944  Northern Metropolitan\n",
              "5  Abbotsford  40 Federation La  ...    144.9969  Northern Metropolitan\n",
              "6  Abbotsford       55a Park St  ...    144.9941  Northern Metropolitan\n",
              "\n",
              "[5 rows x 20 columns]"
            ]
          },
          "metadata": {
            "tags": []
          },
          "execution_count": 76
        }
      ]
    },
    {
      "cell_type": "markdown",
      "metadata": {
        "id": "1HjXsgiRDK-F",
        "colab_type": "text"
      },
      "source": [
        "That would be all for the data cleansing step. Next, initial data analysis will be conducted. I am creating a csv file with cleansed data to make future work easier."
      ]
    },
    {
      "cell_type": "code",
      "metadata": {
        "id": "hPUAfYztDmg4",
        "colab_type": "code",
        "colab": {}
      },
      "source": [
        "df.to_csv('data_cleansed.csv', index=False)"
      ],
      "execution_count": 0,
      "outputs": []
    }
  ]
}